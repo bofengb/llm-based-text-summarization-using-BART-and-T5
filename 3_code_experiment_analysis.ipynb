{
 "cells": [
  {
   "cell_type": "markdown",
   "metadata": {
    "id": "Fo7NI6oT_A1z"
   },
   "source": [
    "<h1 align=\"center\">Text Summarization Using BART and T5 Models</h1>"
   ]
  },
  {
   "cell_type": "markdown",
   "metadata": {
    "id": "JxgSgyT8IVN4"
   },
   "source": [
    "## Table of Contents"
   ]
  },
  {
   "cell_type": "markdown",
   "metadata": {
    "colab_type": "toc",
    "id": "AetW4D8XIRew"
   },
   "source": [
    ">>[Set Up Environment](#scrollTo=SsVpRC8J_DZU)\n",
    "\n",
    ">>[Import Libraries](#scrollTo=PbGJ1bnu_Gc2)\n",
    "\n",
    ">>[Define Constants](#scrollTo=VWsWpAYv_IZc)\n",
    "\n",
    ">>[Pre-training Evaluation](#scrollTo=K4cZWpvfIqKS)\n",
    "\n",
    ">>[Training and Validation](#scrollTo=0gZy3HfozVvg)\n",
    "\n",
    ">>[Model Training Time](#scrollTo=VtC1yrhbI4sg)\n",
    "\n",
    ">>[Performance Evaluation](#scrollTo=5eDnQFxN0qkY)\n",
    "\n",
    ">>[Improvement Rates of Models After Training](#scrollTo=0UEXydVrOkkq)\n",
    "\n",
    ">>[Ablation Studies](#scrollTo=VJJ5-CfNvWnj)\n",
    "\n",
    ">>[Select a Pre-trained Model](#scrollTo=oegXIDDi_M9Y)\n",
    "\n",
    ">>[Summary](#scrollTo=1-N-G57g_Flj)\n",
    "\n"
   ]
  },
  {
   "cell_type": "markdown",
   "metadata": {
    "id": "SsVpRC8J_DZU"
   },
   "source": [
    "## 1. Set Up Environment"
   ]
  },
  {
   "cell_type": "code",
   "execution_count": 1,
   "metadata": {
    "colab": {
     "base_uri": "https://localhost:8080/"
    },
    "executionInfo": {
     "elapsed": 7358,
     "status": "ok",
     "timestamp": 1722466036043,
     "user": {
      "displayName": "BOFENG FU",
      "userId": "12502377591132971488"
     },
     "user_tz": 150
    },
    "id": "M6wZ0N46mK8T",
    "outputId": "409579c9-f890-4eb8-b4d9-efcbc8eb007f"
   },
   "outputs": [
    {
     "name": "stdout",
     "output_type": "stream",
     "text": [
      "Requirement already satisfied: torch in /usr/local/lib/python3.10/dist-packages (2.3.1+cu121)\n",
      "Requirement already satisfied: datasets in /usr/local/lib/python3.10/dist-packages (2.20.0)\n",
      "Requirement already satisfied: transformers in /usr/local/lib/python3.10/dist-packages (4.43.3)\n",
      "Requirement already satisfied: rouge-score in /usr/local/lib/python3.10/dist-packages (0.1.2)\n",
      "Requirement already satisfied: filelock in /usr/local/lib/python3.10/dist-packages (from torch) (3.15.4)\n",
      "Requirement already satisfied: typing-extensions>=4.8.0 in /usr/local/lib/python3.10/dist-packages (from torch) (4.12.2)\n",
      "Requirement already satisfied: sympy in /usr/local/lib/python3.10/dist-packages (from torch) (1.13.1)\n",
      "Requirement already satisfied: networkx in /usr/local/lib/python3.10/dist-packages (from torch) (3.3)\n",
      "Requirement already satisfied: jinja2 in /usr/local/lib/python3.10/dist-packages (from torch) (3.1.4)\n",
      "Requirement already satisfied: fsspec in /usr/local/lib/python3.10/dist-packages (from torch) (2024.5.0)\n",
      "Requirement already satisfied: nvidia-cuda-nvrtc-cu12==12.1.105 in /usr/local/lib/python3.10/dist-packages (from torch) (12.1.105)\n",
      "Requirement already satisfied: nvidia-cuda-runtime-cu12==12.1.105 in /usr/local/lib/python3.10/dist-packages (from torch) (12.1.105)\n",
      "Requirement already satisfied: nvidia-cuda-cupti-cu12==12.1.105 in /usr/local/lib/python3.10/dist-packages (from torch) (12.1.105)\n",
      "Requirement already satisfied: nvidia-cudnn-cu12==8.9.2.26 in /usr/local/lib/python3.10/dist-packages (from torch) (8.9.2.26)\n",
      "Requirement already satisfied: nvidia-cublas-cu12==12.1.3.1 in /usr/local/lib/python3.10/dist-packages (from torch) (12.1.3.1)\n",
      "Requirement already satisfied: nvidia-cufft-cu12==11.0.2.54 in /usr/local/lib/python3.10/dist-packages (from torch) (11.0.2.54)\n",
      "Requirement already satisfied: nvidia-curand-cu12==10.3.2.106 in /usr/local/lib/python3.10/dist-packages (from torch) (10.3.2.106)\n",
      "Requirement already satisfied: nvidia-cusolver-cu12==11.4.5.107 in /usr/local/lib/python3.10/dist-packages (from torch) (11.4.5.107)\n",
      "Requirement already satisfied: nvidia-cusparse-cu12==12.1.0.106 in /usr/local/lib/python3.10/dist-packages (from torch) (12.1.0.106)\n",
      "Requirement already satisfied: nvidia-nccl-cu12==2.20.5 in /usr/local/lib/python3.10/dist-packages (from torch) (2.20.5)\n",
      "Requirement already satisfied: nvidia-nvtx-cu12==12.1.105 in /usr/local/lib/python3.10/dist-packages (from torch) (12.1.105)\n",
      "Requirement already satisfied: triton==2.3.1 in /usr/local/lib/python3.10/dist-packages (from torch) (2.3.1)\n",
      "Requirement already satisfied: nvidia-nvjitlink-cu12 in /usr/local/lib/python3.10/dist-packages (from nvidia-cusolver-cu12==11.4.5.107->torch) (12.5.82)\n",
      "Requirement already satisfied: numpy>=1.17 in /usr/local/lib/python3.10/dist-packages (from datasets) (1.26.4)\n",
      "Requirement already satisfied: pyarrow>=15.0.0 in /usr/local/lib/python3.10/dist-packages (from datasets) (17.0.0)\n",
      "Requirement already satisfied: pyarrow-hotfix in /usr/local/lib/python3.10/dist-packages (from datasets) (0.6)\n",
      "Requirement already satisfied: dill<0.3.9,>=0.3.0 in /usr/local/lib/python3.10/dist-packages (from datasets) (0.3.8)\n",
      "Requirement already satisfied: pandas in /usr/local/lib/python3.10/dist-packages (from datasets) (2.1.4)\n",
      "Requirement already satisfied: requests>=2.32.2 in /usr/local/lib/python3.10/dist-packages (from datasets) (2.32.3)\n",
      "Requirement already satisfied: tqdm>=4.66.3 in /usr/local/lib/python3.10/dist-packages (from datasets) (4.66.4)\n",
      "Requirement already satisfied: xxhash in /usr/local/lib/python3.10/dist-packages (from datasets) (3.4.1)\n",
      "Requirement already satisfied: multiprocess in /usr/local/lib/python3.10/dist-packages (from datasets) (0.70.16)\n",
      "Requirement already satisfied: aiohttp in /usr/local/lib/python3.10/dist-packages (from datasets) (3.9.5)\n",
      "Requirement already satisfied: huggingface-hub>=0.21.2 in /usr/local/lib/python3.10/dist-packages (from datasets) (0.23.5)\n",
      "Requirement already satisfied: packaging in /usr/local/lib/python3.10/dist-packages (from datasets) (24.1)\n",
      "Requirement already satisfied: pyyaml>=5.1 in /usr/local/lib/python3.10/dist-packages (from datasets) (6.0.1)\n",
      "Requirement already satisfied: regex!=2019.12.17 in /usr/local/lib/python3.10/dist-packages (from transformers) (2024.5.15)\n",
      "Requirement already satisfied: safetensors>=0.4.1 in /usr/local/lib/python3.10/dist-packages (from transformers) (0.4.3)\n",
      "Requirement already satisfied: tokenizers<0.20,>=0.19 in /usr/local/lib/python3.10/dist-packages (from transformers) (0.19.1)\n",
      "Requirement already satisfied: absl-py in /usr/local/lib/python3.10/dist-packages (from rouge-score) (1.4.0)\n",
      "Requirement already satisfied: nltk in /usr/local/lib/python3.10/dist-packages (from rouge-score) (3.8.1)\n",
      "Requirement already satisfied: six>=1.14.0 in /usr/local/lib/python3.10/dist-packages (from rouge-score) (1.16.0)\n",
      "Requirement already satisfied: aiosignal>=1.1.2 in /usr/local/lib/python3.10/dist-packages (from aiohttp->datasets) (1.3.1)\n",
      "Requirement already satisfied: attrs>=17.3.0 in /usr/local/lib/python3.10/dist-packages (from aiohttp->datasets) (23.2.0)\n",
      "Requirement already satisfied: frozenlist>=1.1.1 in /usr/local/lib/python3.10/dist-packages (from aiohttp->datasets) (1.4.1)\n",
      "Requirement already satisfied: multidict<7.0,>=4.5 in /usr/local/lib/python3.10/dist-packages (from aiohttp->datasets) (6.0.5)\n",
      "Requirement already satisfied: yarl<2.0,>=1.0 in /usr/local/lib/python3.10/dist-packages (from aiohttp->datasets) (1.9.4)\n",
      "Requirement already satisfied: async-timeout<5.0,>=4.0 in /usr/local/lib/python3.10/dist-packages (from aiohttp->datasets) (4.0.3)\n",
      "Requirement already satisfied: charset-normalizer<4,>=2 in /usr/local/lib/python3.10/dist-packages (from requests>=2.32.2->datasets) (3.3.2)\n",
      "Requirement already satisfied: idna<4,>=2.5 in /usr/local/lib/python3.10/dist-packages (from requests>=2.32.2->datasets) (3.7)\n",
      "Requirement already satisfied: urllib3<3,>=1.21.1 in /usr/local/lib/python3.10/dist-packages (from requests>=2.32.2->datasets) (2.0.7)\n",
      "Requirement already satisfied: certifi>=2017.4.17 in /usr/local/lib/python3.10/dist-packages (from requests>=2.32.2->datasets) (2024.7.4)\n",
      "Requirement already satisfied: MarkupSafe>=2.0 in /usr/local/lib/python3.10/dist-packages (from jinja2->torch) (2.1.5)\n",
      "Requirement already satisfied: click in /usr/local/lib/python3.10/dist-packages (from nltk->rouge-score) (8.1.7)\n",
      "Requirement already satisfied: joblib in /usr/local/lib/python3.10/dist-packages (from nltk->rouge-score) (1.4.2)\n",
      "Requirement already satisfied: python-dateutil>=2.8.2 in /usr/local/lib/python3.10/dist-packages (from pandas->datasets) (2.8.2)\n",
      "Requirement already satisfied: pytz>=2020.1 in /usr/local/lib/python3.10/dist-packages (from pandas->datasets) (2024.1)\n",
      "Requirement already satisfied: tzdata>=2022.1 in /usr/local/lib/python3.10/dist-packages (from pandas->datasets) (2024.1)\n",
      "Requirement already satisfied: mpmath<1.4,>=1.1.0 in /usr/local/lib/python3.10/dist-packages (from sympy->torch) (1.3.0)\n"
     ]
    }
   ],
   "source": [
    "!pip install torch datasets transformers rouge-score"
   ]
  },
  {
   "cell_type": "code",
   "execution_count": 2,
   "metadata": {
    "colab": {
     "base_uri": "https://localhost:8080/"
    },
    "executionInfo": {
     "elapsed": 13280,
     "status": "ok",
     "timestamp": 1722466049320,
     "user": {
      "displayName": "BOFENG FU",
      "userId": "12502377591132971488"
     },
     "user_tz": 150
    },
    "id": "Fvr-lHLCmMHC",
    "outputId": "49b76cc8-e12a-4ea6-c8fb-5c21085d1641"
   },
   "outputs": [
    {
     "name": "stdout",
     "output_type": "stream",
     "text": [
      "Requirement already satisfied: accelerate in /usr/local/lib/python3.10/dist-packages (0.33.0)\n",
      "Requirement already satisfied: numpy<2.0.0,>=1.17 in /usr/local/lib/python3.10/dist-packages (from accelerate) (1.26.4)\n",
      "Requirement already satisfied: packaging>=20.0 in /usr/local/lib/python3.10/dist-packages (from accelerate) (24.1)\n",
      "Requirement already satisfied: psutil in /usr/local/lib/python3.10/dist-packages (from accelerate) (5.9.5)\n",
      "Requirement already satisfied: pyyaml in /usr/local/lib/python3.10/dist-packages (from accelerate) (6.0.1)\n",
      "Requirement already satisfied: torch>=1.10.0 in /usr/local/lib/python3.10/dist-packages (from accelerate) (2.3.1+cu121)\n",
      "Requirement already satisfied: huggingface-hub>=0.21.0 in /usr/local/lib/python3.10/dist-packages (from accelerate) (0.23.5)\n",
      "Requirement already satisfied: safetensors>=0.3.1 in /usr/local/lib/python3.10/dist-packages (from accelerate) (0.4.3)\n",
      "Requirement already satisfied: filelock in /usr/local/lib/python3.10/dist-packages (from huggingface-hub>=0.21.0->accelerate) (3.15.4)\n",
      "Requirement already satisfied: fsspec>=2023.5.0 in /usr/local/lib/python3.10/dist-packages (from huggingface-hub>=0.21.0->accelerate) (2024.5.0)\n",
      "Requirement already satisfied: requests in /usr/local/lib/python3.10/dist-packages (from huggingface-hub>=0.21.0->accelerate) (2.32.3)\n",
      "Requirement already satisfied: tqdm>=4.42.1 in /usr/local/lib/python3.10/dist-packages (from huggingface-hub>=0.21.0->accelerate) (4.66.4)\n",
      "Requirement already satisfied: typing-extensions>=3.7.4.3 in /usr/local/lib/python3.10/dist-packages (from huggingface-hub>=0.21.0->accelerate) (4.12.2)\n",
      "Requirement already satisfied: sympy in /usr/local/lib/python3.10/dist-packages (from torch>=1.10.0->accelerate) (1.13.1)\n",
      "Requirement already satisfied: networkx in /usr/local/lib/python3.10/dist-packages (from torch>=1.10.0->accelerate) (3.3)\n",
      "Requirement already satisfied: jinja2 in /usr/local/lib/python3.10/dist-packages (from torch>=1.10.0->accelerate) (3.1.4)\n",
      "Requirement already satisfied: nvidia-cuda-nvrtc-cu12==12.1.105 in /usr/local/lib/python3.10/dist-packages (from torch>=1.10.0->accelerate) (12.1.105)\n",
      "Requirement already satisfied: nvidia-cuda-runtime-cu12==12.1.105 in /usr/local/lib/python3.10/dist-packages (from torch>=1.10.0->accelerate) (12.1.105)\n",
      "Requirement already satisfied: nvidia-cuda-cupti-cu12==12.1.105 in /usr/local/lib/python3.10/dist-packages (from torch>=1.10.0->accelerate) (12.1.105)\n",
      "Requirement already satisfied: nvidia-cudnn-cu12==8.9.2.26 in /usr/local/lib/python3.10/dist-packages (from torch>=1.10.0->accelerate) (8.9.2.26)\n",
      "Requirement already satisfied: nvidia-cublas-cu12==12.1.3.1 in /usr/local/lib/python3.10/dist-packages (from torch>=1.10.0->accelerate) (12.1.3.1)\n",
      "Requirement already satisfied: nvidia-cufft-cu12==11.0.2.54 in /usr/local/lib/python3.10/dist-packages (from torch>=1.10.0->accelerate) (11.0.2.54)\n",
      "Requirement already satisfied: nvidia-curand-cu12==10.3.2.106 in /usr/local/lib/python3.10/dist-packages (from torch>=1.10.0->accelerate) (10.3.2.106)\n",
      "Requirement already satisfied: nvidia-cusolver-cu12==11.4.5.107 in /usr/local/lib/python3.10/dist-packages (from torch>=1.10.0->accelerate) (11.4.5.107)\n",
      "Requirement already satisfied: nvidia-cusparse-cu12==12.1.0.106 in /usr/local/lib/python3.10/dist-packages (from torch>=1.10.0->accelerate) (12.1.0.106)\n",
      "Requirement already satisfied: nvidia-nccl-cu12==2.20.5 in /usr/local/lib/python3.10/dist-packages (from torch>=1.10.0->accelerate) (2.20.5)\n",
      "Requirement already satisfied: nvidia-nvtx-cu12==12.1.105 in /usr/local/lib/python3.10/dist-packages (from torch>=1.10.0->accelerate) (12.1.105)\n",
      "Requirement already satisfied: triton==2.3.1 in /usr/local/lib/python3.10/dist-packages (from torch>=1.10.0->accelerate) (2.3.1)\n",
      "Requirement already satisfied: nvidia-nvjitlink-cu12 in /usr/local/lib/python3.10/dist-packages (from nvidia-cusolver-cu12==11.4.5.107->torch>=1.10.0->accelerate) (12.5.82)\n",
      "Requirement already satisfied: MarkupSafe>=2.0 in /usr/local/lib/python3.10/dist-packages (from jinja2->torch>=1.10.0->accelerate) (2.1.5)\n",
      "Requirement already satisfied: charset-normalizer<4,>=2 in /usr/local/lib/python3.10/dist-packages (from requests->huggingface-hub>=0.21.0->accelerate) (3.3.2)\n",
      "Requirement already satisfied: idna<4,>=2.5 in /usr/local/lib/python3.10/dist-packages (from requests->huggingface-hub>=0.21.0->accelerate) (3.7)\n",
      "Requirement already satisfied: urllib3<3,>=1.21.1 in /usr/local/lib/python3.10/dist-packages (from requests->huggingface-hub>=0.21.0->accelerate) (2.0.7)\n",
      "Requirement already satisfied: certifi>=2017.4.17 in /usr/local/lib/python3.10/dist-packages (from requests->huggingface-hub>=0.21.0->accelerate) (2024.7.4)\n",
      "Requirement already satisfied: mpmath<1.4,>=1.1.0 in /usr/local/lib/python3.10/dist-packages (from sympy->torch>=1.10.0->accelerate) (1.3.0)\n",
      "Requirement already satisfied: transformers in /usr/local/lib/python3.10/dist-packages (4.43.3)\n",
      "Requirement already satisfied: filelock in /usr/local/lib/python3.10/dist-packages (from transformers) (3.15.4)\n",
      "Requirement already satisfied: huggingface-hub<1.0,>=0.23.2 in /usr/local/lib/python3.10/dist-packages (from transformers) (0.23.5)\n",
      "Requirement already satisfied: numpy>=1.17 in /usr/local/lib/python3.10/dist-packages (from transformers) (1.26.4)\n",
      "Requirement already satisfied: packaging>=20.0 in /usr/local/lib/python3.10/dist-packages (from transformers) (24.1)\n",
      "Requirement already satisfied: pyyaml>=5.1 in /usr/local/lib/python3.10/dist-packages (from transformers) (6.0.1)\n",
      "Requirement already satisfied: regex!=2019.12.17 in /usr/local/lib/python3.10/dist-packages (from transformers) (2024.5.15)\n",
      "Requirement already satisfied: requests in /usr/local/lib/python3.10/dist-packages (from transformers) (2.32.3)\n",
      "Requirement already satisfied: safetensors>=0.4.1 in /usr/local/lib/python3.10/dist-packages (from transformers) (0.4.3)\n",
      "Requirement already satisfied: tokenizers<0.20,>=0.19 in /usr/local/lib/python3.10/dist-packages (from transformers) (0.19.1)\n",
      "Requirement already satisfied: tqdm>=4.27 in /usr/local/lib/python3.10/dist-packages (from transformers) (4.66.4)\n",
      "Requirement already satisfied: fsspec>=2023.5.0 in /usr/local/lib/python3.10/dist-packages (from huggingface-hub<1.0,>=0.23.2->transformers) (2024.5.0)\n",
      "Requirement already satisfied: typing-extensions>=3.7.4.3 in /usr/local/lib/python3.10/dist-packages (from huggingface-hub<1.0,>=0.23.2->transformers) (4.12.2)\n",
      "Requirement already satisfied: charset-normalizer<4,>=2 in /usr/local/lib/python3.10/dist-packages (from requests->transformers) (3.3.2)\n",
      "Requirement already satisfied: idna<4,>=2.5 in /usr/local/lib/python3.10/dist-packages (from requests->transformers) (3.7)\n",
      "Requirement already satisfied: urllib3<3,>=1.21.1 in /usr/local/lib/python3.10/dist-packages (from requests->transformers) (2.0.7)\n",
      "Requirement already satisfied: certifi>=2017.4.17 in /usr/local/lib/python3.10/dist-packages (from requests->transformers) (2024.7.4)\n"
     ]
    }
   ],
   "source": [
    "! pip install -U accelerate\n",
    "! pip install -U transformers"
   ]
  },
  {
   "cell_type": "markdown",
   "metadata": {
    "id": "PbGJ1bnu_Gc2"
   },
   "source": [
    "## 2. Import Libraries"
   ]
  },
  {
   "cell_type": "code",
   "execution_count": 3,
   "metadata": {
    "colab": {
     "base_uri": "https://localhost:8080/"
    },
    "executionInfo": {
     "elapsed": 1058,
     "status": "ok",
     "timestamp": 1722466050375,
     "user": {
      "displayName": "BOFENG FU",
      "userId": "12502377591132971488"
     },
     "user_tz": 150
    },
    "id": "3qR8R_FMmQ7A",
    "outputId": "026bf648-de14-4001-c3bd-e0a7bba64509"
   },
   "outputs": [
    {
     "name": "stdout",
     "output_type": "stream",
     "text": [
      "Drive already mounted at /content/drive; to attempt to forcibly remount, call drive.mount(\"/content/drive\", force_remount=True).\n"
     ]
    }
   ],
   "source": [
    "from google.colab import drive\n",
    "drive.mount('/content/drive')\n",
    "\n",
    "import fileinput\n",
    "import sys\n",
    "import os"
   ]
  },
  {
   "cell_type": "code",
   "execution_count": 4,
   "metadata": {
    "executionInfo": {
     "elapsed": 24393,
     "status": "ok",
     "timestamp": 1722466074766,
     "user": {
      "displayName": "BOFENG FU",
      "userId": "12502377591132971488"
     },
     "user_tz": 150
    },
    "id": "gl8ghG5omSy3"
   },
   "outputs": [],
   "source": [
    "import torch\n",
    "import datasets\n",
    "from datasets import load_dataset, load_metric, Dataset\n",
    "from datasets import load_from_disk\n",
    "from transformers import BartTokenizer, BartForConditionalGeneration, T5Tokenizer, T5ForConditionalGeneration\n",
    "from transformers import Trainer, TrainingArguments, Seq2SeqTrainer, Seq2SeqTrainingArguments\n",
    "from transformers import pipeline"
   ]
  },
  {
   "cell_type": "code",
   "execution_count": 5,
   "metadata": {
    "colab": {
     "base_uri": "https://localhost:8080/"
    },
    "executionInfo": {
     "elapsed": 2818,
     "status": "ok",
     "timestamp": 1722466077581,
     "user": {
      "displayName": "BOFENG FU",
      "userId": "12502377591132971488"
     },
     "user_tz": 150
    },
    "id": "aA2aisjRmT4q",
    "outputId": "a00c38d6-abc5-4ccd-8021-0d403169fe68"
   },
   "outputs": [
    {
     "name": "stderr",
     "output_type": "stream",
     "text": [
      "[nltk_data] Downloading package punkt to /root/nltk_data...\n",
      "[nltk_data]   Unzipping tokenizers/punkt.zip.\n"
     ]
    },
    {
     "data": {
      "text/plain": [
       "True"
      ]
     },
     "execution_count": 5,
     "metadata": {},
     "output_type": "execute_result"
    }
   ],
   "source": [
    "import numpy as np\n",
    "import pandas as pd\n",
    "import matplotlib.pyplot as plt\n",
    "import seaborn as sns\n",
    "\n",
    "import re\n",
    "from collections import Counter\n",
    "from wordcloud import WordCloud\n",
    "import nltk\n",
    "nltk.download(\"punkt\")"
   ]
  },
  {
   "cell_type": "code",
   "execution_count": 6,
   "metadata": {
    "executionInfo": {
     "elapsed": 5,
     "status": "ok",
     "timestamp": 1722466077581,
     "user": {
      "displayName": "BOFENG FU",
      "userId": "12502377591132971488"
     },
     "user_tz": 150
    },
    "id": "DsV0_TiAmVOU"
   },
   "outputs": [],
   "source": [
    "import warnings\n",
    "warnings.filterwarnings('ignore')\n",
    "import ipywidgets as widgets\n",
    "from ipywidgets import interact, interact_manual\n",
    "from IPython.display import display, clear_output"
   ]
  },
  {
   "cell_type": "markdown",
   "metadata": {
    "id": "VWsWpAYv_IZc"
   },
   "source": [
    "## 3. Define Constants"
   ]
  },
  {
   "cell_type": "code",
   "execution_count": 7,
   "metadata": {
    "colab": {
     "base_uri": "https://localhost:8080/"
    },
    "executionInfo": {
     "elapsed": 5,
     "status": "ok",
     "timestamp": 1722466077581,
     "user": {
      "displayName": "BOFENG FU",
      "userId": "12502377591132971488"
     },
     "user_tz": 150
    },
    "id": "Pk_YDokOpz2D",
    "outputId": "b9d99fe2-f06b-4325-a898-b772e7f292fc"
   },
   "outputs": [
    {
     "data": {
      "text/plain": [
       "device(type='cpu')"
      ]
     },
     "execution_count": 7,
     "metadata": {},
     "output_type": "execute_result"
    }
   ],
   "source": [
    "device = torch.device(\"cuda\" if torch.cuda.is_available() else \"cpu\")\n",
    "device"
   ]
  },
  {
   "cell_type": "code",
   "execution_count": 8,
   "metadata": {
    "executionInfo": {
     "elapsed": 4,
     "status": "ok",
     "timestamp": 1722466077581,
     "user": {
      "displayName": "BOFENG FU",
      "userId": "12502377591132971488"
     },
     "user_tz": 150
    },
    "id": "FLx4EE8mnu8o"
   },
   "outputs": [],
   "source": [
    "HYPERS = {\n",
    "    \"BART-BASE\": {\n",
    "        \"PREPROCESSING_ARTICLE_MAX_LENGTH\": 1024,\n",
    "        \"PREPROCESSING_HIGHLIGHT_MAX_LENGTH\": 150,\n",
    "        \"SUMMARY_ARTICLE_MAX_LENGTH\": 1024,\n",
    "        \"SUMMARY_HIGHLIGHT_MAX_LENGTH\": 150,\n",
    "        \"SUMMARY_HIGHLIGHT_BEAM\": 4,\n",
    "        \"SUMMARY_HIGHLIGHT_NUM_RETURN_SEQUENCES\": 1,\n",
    "        \"SUMMARY_MAP_BATCH_SIZE\": 8,\n",
    "        \"TRAIN_PER_DEVICE_TRAIN_BATCH_SIZE\": 4,\n",
    "        \"TRAIN_PER_DEVICE_EVAL_BATCH_SIZE\": 4,\n",
    "        \"TRAIN_GENERATION_MAX_LENGTH\": 150,\n",
    "        \"TRAIN_GENERATION_NUM_BEAMS\": 2,\n",
    "        \"PIPELINE_MAX_LENGTH\": 150,\n",
    "        \"PIPELINE_MIN_LENGTH\": 50,\n",
    "    },\n",
    "\n",
    "    \"BART-LARGE\": {\n",
    "        \"PREPROCESSING_ARTICLE_MAX_LENGTH\": 1024,\n",
    "        \"PREPROCESSING_HIGHLIGHT_MAX_LENGTH\": 150,\n",
    "        \"SUMMARY_ARTICLE_MAX_LENGTH\": 1024,\n",
    "        \"SUMMARY_HIGHLIGHT_MAX_LENGTH\": 150,\n",
    "        \"SUMMARY_HIGHLIGHT_BEAM\": 4,\n",
    "        \"SUMMARY_HIGHLIGHT_NUM_RETURN_SEQUENCES\": 1,\n",
    "        \"SUMMARY_MAP_BATCH_SIZE\": 8,\n",
    "        \"TRAIN_PER_DEVICE_TRAIN_BATCH_SIZE\": 4,\n",
    "        \"TRAIN_PER_DEVICE_EVAL_BATCH_SIZE\": 4,\n",
    "        \"TRAIN_GENERATION_MAX_LENGTH\": 150,\n",
    "        \"TRAIN_GENERATION_NUM_BEAMS\": 2,\n",
    "        \"PIPELINE_MAX_LENGTH\": 150,\n",
    "        \"PIPELINE_MIN_LENGTH\": 50,\n",
    "    },\n",
    "\n",
    "    \"BART-LARGE-CNN\": {\n",
    "        \"PREPROCESSING_ARTICLE_MAX_LENGTH\": 1024,\n",
    "        \"PREPROCESSING_HIGHLIGHT_MAX_LENGTH\": 150,\n",
    "        \"SUMMARY_ARTICLE_MAX_LENGTH\": 1024,\n",
    "        \"SUMMARY_HIGHLIGHT_MAX_LENGTH\": 150,\n",
    "        \"SUMMARY_HIGHLIGHT_BEAM\": 4,\n",
    "        \"SUMMARY_HIGHLIGHT_NUM_RETURN_SEQUENCES\": 1,\n",
    "        \"SUMMARY_MAP_BATCH_SIZE\": 8,\n",
    "        \"TRAIN_PER_DEVICE_TRAIN_BATCH_SIZE\": 4,\n",
    "        \"TRAIN_PER_DEVICE_EVAL_BATCH_SIZE\": 4,\n",
    "        \"TRAIN_GENERATION_MAX_LENGTH\": 150,\n",
    "        \"TRAIN_GENERATION_NUM_BEAMS\": 2,\n",
    "        \"PIPELINE_MAX_LENGTH\": 150,\n",
    "        \"PIPELINE_MIN_LENGTH\": 50,\n",
    "    },\n",
    "\n",
    "    \"T5-SMALL\": {\n",
    "        \"PREPROCESSING_ARTICLE_MAX_LENGTH\": 1024,\n",
    "        \"PREPROCESSING_HIGHLIGHT_MAX_LENGTH\": 150,\n",
    "        \"SUMMARY_ARTICLE_MAX_LENGTH\": 1024,\n",
    "        \"SUMMARY_HIGHLIGHT_MAX_LENGTH\": 150,\n",
    "        \"SUMMARY_HIGHLIGHT_BEAM\": 4,\n",
    "        \"SUMMARY_HIGHLIGHT_NUM_RETURN_SEQUENCES\": 1,\n",
    "        \"SUMMARY_MAP_BATCH_SIZE\": 8,\n",
    "        \"TRAIN_PER_DEVICE_TRAIN_BATCH_SIZE\": 4,\n",
    "        \"TRAIN_PER_DEVICE_EVAL_BATCH_SIZE\": 4,\n",
    "        \"TRAIN_GENERATION_MAX_LENGTH\": 150,\n",
    "        \"TRAIN_GENERATION_NUM_BEAMS\": 2,\n",
    "        \"PIPELINE_MAX_LENGTH\": 150,\n",
    "        \"PIPELINE_MIN_LENGTH\": 50,\n",
    "    },\n",
    "\n",
    "    \"T5-BASE\": {\n",
    "        \"PREPROCESSING_ARTICLE_MAX_LENGTH\": 1024,\n",
    "        \"PREPROCESSING_HIGHLIGHT_MAX_LENGTH\": 150,\n",
    "        \"SUMMARY_ARTICLE_MAX_LENGTH\": 1024,\n",
    "        \"SUMMARY_HIGHLIGHT_MAX_LENGTH\": 150,\n",
    "        \"SUMMARY_HIGHLIGHT_BEAM\": 4,\n",
    "        \"SUMMARY_HIGHLIGHT_NUM_RETURN_SEQUENCES\": 1,\n",
    "        \"SUMMARY_MAP_BATCH_SIZE\": 8,\n",
    "        \"TRAIN_PER_DEVICE_TRAIN_BATCH_SIZE\": 4,\n",
    "        \"TRAIN_PER_DEVICE_EVAL_BATCH_SIZE\": 4,\n",
    "        \"TRAIN_GENERATION_MAX_LENGTH\": 150,\n",
    "        \"TRAIN_GENERATION_NUM_BEAMS\": 2,\n",
    "        \"PIPELINE_MAX_LENGTH\": 150,\n",
    "        \"PIPELINE_MIN_LENGTH\": 50,\n",
    "    },\n",
    "\n",
    "    \"T5-LARGE\": {\n",
    "        \"PREPROCESSING_ARTICLE_MAX_LENGTH\": 512,\n",
    "        \"PREPROCESSING_HIGHLIGHT_MAX_LENGTH\": 50,\n",
    "        \"SUMMARY_ARTICLE_MAX_LENGTH\": 512,\n",
    "        \"SUMMARY_HIGHLIGHT_MAX_LENGTH\": 50,\n",
    "        \"SUMMARY_HIGHLIGHT_BEAM\": 2,\n",
    "        \"SUMMARY_HIGHLIGHT_NUM_RETURN_SEQUENCES\": 1,\n",
    "        \"SUMMARY_MAP_BATCH_SIZE\": 2,\n",
    "        \"TRAIN_PER_DEVICE_TRAIN_BATCH_SIZE\": 2,\n",
    "        \"TRAIN_PER_DEVICE_EVAL_BATCH_SIZE\": 2,\n",
    "        \"TRAIN_GENERATION_MAX_LENGTH\": 50,\n",
    "        \"TRAIN_GENERATION_NUM_BEAMS\": 2,\n",
    "        \"PIPELINE_MAX_LENGTH\": 50,\n",
    "        \"PIPELINE_MIN_LENGTH\": 40,\n",
    "    },\n",
    "\n",
    "    \"BART-LARGE-CNN-FREEZE\": {\n",
    "        \"PREPROCESSING_ARTICLE_MAX_LENGTH\": 1024,\n",
    "        \"PREPROCESSING_HIGHLIGHT_MAX_LENGTH\": 150,\n",
    "        \"SUMMARY_ARTICLE_MAX_LENGTH\": 1024,\n",
    "        \"SUMMARY_HIGHLIGHT_MAX_LENGTH\": 150,\n",
    "        \"SUMMARY_HIGHLIGHT_BEAM\": 4,\n",
    "        \"SUMMARY_HIGHLIGHT_NUM_RETURN_SEQUENCES\": 1,\n",
    "        \"SUMMARY_MAP_BATCH_SIZE\": 8,\n",
    "        \"TRAIN_PER_DEVICE_TRAIN_BATCH_SIZE\": 4,\n",
    "        \"TRAIN_PER_DEVICE_EVAL_BATCH_SIZE\": 4,\n",
    "        \"TRAIN_GENERATION_MAX_LENGTH\": 150,\n",
    "        \"TRAIN_GENERATION_NUM_BEAMS\": 2,\n",
    "        \"PIPELINE_MAX_LENGTH\": 150,\n",
    "        \"PIPELINE_MIN_LENGTH\": 50,\n",
    "    },\n",
    "\n",
    "    \"BART-LARGE-CNN-DISCRIM\": {\n",
    "        \"PREPROCESSING_ARTICLE_MAX_LENGTH\": 1024,\n",
    "        \"PREPROCESSING_HIGHLIGHT_MAX_LENGTH\": 150,\n",
    "        \"SUMMARY_ARTICLE_MAX_LENGTH\": 1024,\n",
    "        \"SUMMARY_HIGHLIGHT_MAX_LENGTH\": 150,\n",
    "        \"SUMMARY_HIGHLIGHT_BEAM\": 4,\n",
    "        \"SUMMARY_HIGHLIGHT_NUM_RETURN_SEQUENCES\": 1,\n",
    "        \"SUMMARY_MAP_BATCH_SIZE\": 8,\n",
    "        \"TRAIN_PER_DEVICE_TRAIN_BATCH_SIZE\": 4,\n",
    "        \"TRAIN_PER_DEVICE_EVAL_BATCH_SIZE\": 4,\n",
    "        \"TRAIN_GENERATION_MAX_LENGTH\": 150,\n",
    "        \"TRAIN_GENERATION_NUM_BEAMS\": 2,\n",
    "        \"PIPELINE_MAX_LENGTH\": 150,\n",
    "        \"PIPELINE_MIN_LENGTH\": 50,\n",
    "    },\n",
    "}"
   ]
  },
  {
   "cell_type": "markdown",
   "metadata": {
    "id": "K4cZWpvfIqKS"
   },
   "source": [
    "## 4. Pre-training Evaluation"
   ]
  },
  {
   "cell_type": "markdown",
   "metadata": {
    "id": "oCsDfdxOuQVi"
   },
   "source": [
    "| Experiment Name | ROUGE1 | ROUGE2 | ROUGEL | ROUGELsum | Mean Generated Length |\n",
    "| --- | --- | --- | --- | --- | --- |\n",
    "| BART-BASE | 30.412231 | 11.955763 | 18.918125 | 25.038473 | 117.000000 |\n",
    "| BART-LARGE | 28.677029 | 9.980131 | 18.635313 | 24.395673 | 117.066667 |\n",
    "| BART-LARGE-CNN | 40.365079 | 16.988152 | 28.983233 | 34.358572 | 50.200000 |\n",
    "| T5-SMALL | 28.825969 | 8.667316 | 20.115782 | 24.276790 | 45.066667 |\n",
    "| T5-BASE | 35.604277 | 14.487096 | 26.491426 | 30.993596 | 42.733333 |\n",
    "| T5-LARGE | 31.588141 | 11.039841 | 22.234351 | 26.753200 | 31.533333 |"
   ]
  },
  {
   "cell_type": "markdown",
   "metadata": {
    "id": "zydKRncpufTH"
   },
   "source": [
    "- On average, the T5-type models perform better than the BART-type models. This is because T5 targets various tasks. As a result, BART needs fine-tuning on each task.\n",
    "\n",
    "- While the T5 models benefit from their versatile nature, the BART-LARGE-CNN model outperforms all other methods as it was previously trained on the CNN/Daily Mail dataset.\n",
    "\n",
    "- Within each group of models, the larger the network is, the better summarization results are achieved. Furthermore, more parameters represent a larger capacity of a model, which has a stronger expressive ability.\n",
    "\n",
    "- However, the T5-LARGE model performs worse than the T5-BASE model. One possible reason is that the default generation length of the T5-LARGE model is shorter than the rest of the models in the T5 family. A shorter output length hinders the expressive ability of the model.\n"
   ]
  },
  {
   "cell_type": "markdown",
   "metadata": {
    "id": "0gZy3HfozVvg"
   },
   "source": [
    "## 5. Training and Validation"
   ]
  },
  {
   "cell_type": "code",
   "execution_count": 9,
   "metadata": {
    "executionInfo": {
     "elapsed": 3,
     "status": "ok",
     "timestamp": 1722466077581,
     "user": {
      "displayName": "BOFENG FU",
      "userId": "12502377591132971488"
     },
     "user_tz": 150
    },
    "id": "OKPr5T82E7Fd"
   },
   "outputs": [],
   "source": [
    "step_list = [20, 40, 60, 80, 100, 120, 140, 160, 180, 200]\n",
    "model_list = [\"BART-BASE\", \"BART-LARGE\", \"BART-LARGE-CNN\", \"T5-SMALL\", \"T5-BASE\", \"T5-LARGE\", \"BART-LARGE-CNN-FREEZE\", \"BART-LARGE-CNN-DISCRIM\"]\n",
    "model_qualitative_list = [\"BART-BASE\", \"BART-LARGE\", \"BART-LARGE-CNN\", \"T5-SMALL\", \"T5-BASE\", \"T5-LARGE\"]"
   ]
  },
  {
   "cell_type": "code",
   "execution_count": 10,
   "metadata": {
    "executionInfo": {
     "elapsed": 273,
     "status": "ok",
     "timestamp": 1722466077851,
     "user": {
      "displayName": "BOFENG FU",
      "userId": "12502377591132971488"
     },
     "user_tz": 150
    },
    "id": "qF2ctCR-XdPn"
   },
   "outputs": [],
   "source": [
    "bart_base_data = {\n",
    "    \"Step\": [20, 40, 60, 80, 100, 120, 140, 160, 180, 200],\n",
    "    \"Training Loss\": [11.742400, 10.513400, 9.686400, 8.737300, 7.952600, 6.335300, 5.135400, 4.423100, 3.800400, 3.337200],\n",
    "    \"Validation Loss\": [11.013391, 9.632937, 8.745844, 7.924075, 6.479474, 4.659436, 3.986900, 3.423099, 2.957968, 2.522966],\n",
    "    \"Model\": [\"BART-BASE\", \"BART-BASE\", \"BART-BASE\", \"BART-BASE\", \"BART-BASE\", \"BART-BASE\", \"BART-BASE\", \"BART-BASE\", \"BART-BASE\", \"BART-BASE\"],\n",
    "}\n",
    "df_bart_base_data = pd.DataFrame.from_dict(bart_base_data)\n",
    "\n",
    "bart_large_data = {\n",
    "    \"Step\": [20, 40, 60, 80, 100, 120, 140, 160, 180, 200],\n",
    "    \"Training Loss\": [11.696900, 10.525100, 9.338800, 8.463500, 7.487200, 6.359200, 5.521700, 4.887600, 4.560700, 4.240600],\n",
    "    \"Validation Loss\": [11.346453, 9.655445, 8.563334, 7.558479, 6.223162, 4.912969, 4.427664, 4.106386, 3.820114, 3.524909],\n",
    "    \"Model\": [\"BART-LARGE\", \"BART-LARGE\", \"BART-LARGE\", \"BART-LARGE\", \"BART-LARGE\", \"BART-LARGE\", \"BART-LARGE\", \"BART-LARGE\", \"BART-LARGE\", \"BART-LARGE\"],\n",
    "}\n",
    "df_bart_large_data = pd.DataFrame.from_dict(bart_large_data)\n",
    "\n",
    "bart_large_cnn_data = {\n",
    "    \"Step\": [20, 40, 60, 80, 100, 120, 140, 160, 180, 200],\n",
    "    \"Training Loss\": [8.086400, 7.216500, 5.165500, 2.828300, 1.584700, 1.086200, 0.808900, 0.603600, 0.541800, 0.493900],\n",
    "    \"Validation Loss\": [7.312938, 5.998803, 3.181171, 1.581215, 1.047528, 0.795684, 0.665296, 0.623622, 0.576892, 0.551481],\n",
    "    \"Model\": [\"BART-LARGE-CNN\", \"BART-LARGE-CNN\", \"BART-LARGE-CNN\", \"BART-LARGE-CNN\", \"BART-LARGE-CNN\", \"BART-LARGE-CNN\", \"BART-LARGE-CNN\", \"BART-LARGE-CNN\", \"BART-LARGE-CNN\", \"BART-LARGE-CNN\"]\n",
    "}\n",
    "df_bart_large_cnn_data = pd.DataFrame.from_dict(bart_large_cnn_data)\n",
    "\n",
    "t5_small_data = {\n",
    "    \"Step\": [20, 40, 60, 80, 100, 120, 140, 160, 180, 200],\n",
    "    \"Training Loss\": [11.360400, 11.754000, 11.106500, 10.228900, 9.579000, 8.197800, 7.172700, 5.758000, 4.536100, 3.250700],\n",
    "    \"Validation Loss\": [12.827251, 12.447767, 11.822109, 10.953791, 9.857818, 8.539064, 7.001606, 5.324541, 3.595079, 2.127848],\n",
    "    \"Model\": [\"T5-SMALL\", \"T5-SMALL\", \"T5-SMALL\", \"T5-SMALL\", \"T5-SMALL\", \"T5-SMALL\", \"T5-SMALL\", \"T5-SMALL\", \"T5-SMALL\", \"T5-SMALL\"]\n",
    "}\n",
    "df_t5_small_data = pd.DataFrame.from_dict(t5_small_data)\n",
    "\n",
    "t5_base_data = {\n",
    "    \"Step\": [20, 40, 60, 80, 100, 120, 140, 160, 180, 200],\n",
    "    \"Training Loss\": [9.784900, 9.121500, 8.662500, 7.354700, 6.072200, 4.171600, 2.516600, 1.635000, 1.159400, 1.015100],\n",
    "    \"Validation Loss\": [9.687448, 9.045111, 7.994954, 6.656920, 4.954986, 2.987519, 1.340967, 0.907747, 0.867435, 0.836667],\n",
    "    \"Model\": [\"T5-BASE\", \"T5-BASE\", \"T5-BASE\", \"T5-BASE\", \"T5-BASE\", \"T5-BASE\", \"T5-BASE\", \"T5-BASE\", \"T5-BASE\", \"T5-BASE\"]\n",
    "}\n",
    "df_t5_base_data = pd.DataFrame.from_dict(t5_base_data)\n",
    "\n",
    "t5_large_data = {\n",
    "    \"Step\": [20, 40, 60, 80, 100, 120, 140, 160, 180, 200],\n",
    "    \"Training Loss\": [5.081900, 4.363700, 4.229900, 3.903500, 3.485600, 3.512700, 3.654400, 3.030500, 2.850000, 2.948000],\n",
    "    \"Validation Loss\": [4.484567, 4.179130, 3.862063, 3.599539, 3.390794, 3.213043, 3.073432, 2.929335, 2.864946, 2.771993],\n",
    "    \"Model\": [\"T5-LARGE\", \"T5-LARGE\", \"T5-LARGE\", \"T5-LARGE\", \"T5-LARGE\", \"T5-LARGE\", \"T5-LARGE\", \"T5-LARGE\", \"T5-LARGE\", \"T5-LARGE\"]\n",
    "}\n",
    "df_t5_large_data = pd.DataFrame.from_dict(t5_large_data)\n",
    "\n",
    "bart_large_cnn_freeze_data = {\n",
    "    \"Step\": [20, 40, 60, 80, 100, 120, 140, 160, 180, 200],\n",
    "    \"Training Loss\": [8.349900, 7.405800, 6.469800, 4.427000, 2.288300, 1.381900, 1.002400, 0.719200, 0.619300, 0.524900],\n",
    "    \"Validation Loss\": [7.770353, 6.869614, 5.240678, 2.486506, 1.345228, 0.917387, 0.704649, 0.611553, 0.553761, 0.531625],\n",
    "    \"Model\": [\"BART-LARGE-CNN-FREEZE\", \"BART-LARGE-CNN-FREEZE\", \"BART-LARGE-CNN-FREEZE\", \"BART-LARGE-CNN-FREEZE\", \"BART-LARGE-CNN-FREEZE\", \"BART-LARGE-CNN-FREEZE\", \"BART-LARGE-CNN-FREEZE\", \"BART-LARGE-CNN-FREEZE\", \"BART-LARGE-CNN-FREEZE\", \"BART-LARGE-CNN-FREEZE\"]\n",
    "}\n",
    "df_bart_large_cnn_freeze_data = pd.DataFrame.from_dict(bart_large_cnn_freeze_data)\n",
    "\n",
    "bart_large_cnn_discrim_data = {\n",
    "    \"Step\": [20, 40, 60, 80, 100, 120, 140, 160, 180, 200],\n",
    "    \"Training Loss\": [8.287100, 7.445000, 5.995400, 3.752000, 2.190800, 1.563800, 1.339700, 1.158900, 1.145600, 1.072200],\n",
    "    \"Validation Loss\": [7.887224, 6.806077, 4.684964, 2.259639, 1.463958, 1.191350, 1.064174, 1.029142, 1.005842, 0.986026],\n",
    "    \"Model\": [\"BART-LARGE-CNN-DISCRIM\", \"BART-LARGE-CNN-DISCRIM\", \"BART-LARGE-CNN-DISCRIM\", \"BART-LARGE-CNN-DISCRIM\", \"BART-LARGE-CNN-DISCRIM\", \"BART-LARGE-CNN-DISCRIM\", \"BART-LARGE-CNN-DISCRIM\", \"BART-LARGE-CNN-DISCRIM\", \"BART-LARGE-CNN-DISCRIM\", \"BART-LARGE-CNN-DISCRIM\"]\n",
    "}\n",
    "df_bart_large_cnn_discrim_data = pd.DataFrame.from_dict(bart_large_cnn_discrim_data)"
   ]
  },
  {
   "cell_type": "code",
   "execution_count": 11,
   "metadata": {
    "executionInfo": {
     "elapsed": 21,
     "status": "ok",
     "timestamp": 1722466077851,
     "user": {
      "displayName": "BOFENG FU",
      "userId": "12502377591132971488"
     },
     "user_tz": 150
    },
    "id": "rpq9G6DW2jAe"
   },
   "outputs": [],
   "source": [
    "results = [df_bart_base_data, df_bart_large_data, df_bart_large_cnn_data, df_t5_small_data, df_t5_base_data, df_t5_large_data, df_bart_large_cnn_freeze_data, df_bart_large_cnn_discrim_data]\n",
    "df_results = pd.concat(results, ignore_index=True)"
   ]
  },
  {
   "cell_type": "code",
   "execution_count": 12,
   "metadata": {
    "executionInfo": {
     "elapsed": 20,
     "status": "ok",
     "timestamp": 1722466077851,
     "user": {
      "displayName": "BOFENG FU",
      "userId": "12502377591132971488"
     },
     "user_tz": 150
    },
    "id": "Kct2ZLHfCEet"
   },
   "outputs": [],
   "source": [
    "model_widget = widgets.SelectMultiple(\n",
    "    options=model_list,\n",
    "    description=\"Model\",\n",
    ")"
   ]
  },
  {
   "cell_type": "code",
   "execution_count": 13,
   "metadata": {
    "executionInfo": {
     "elapsed": 18,
     "status": "ok",
     "timestamp": 1722466077851,
     "user": {
      "displayName": "BOFENG FU",
      "userId": "12502377591132971488"
     },
     "user_tz": 150
    },
    "id": "VkiTLcZsAuW2"
   },
   "outputs": [],
   "source": [
    "def f(model):\n",
    "    # Initialization\n",
    "    if (len(model) == 0):\n",
    "        model = model_widget.options[0: 8]\n",
    "\n",
    "    # Filter data\n",
    "    df_plot = df_results[df_results[\"Model\"].isin(model)]\n",
    "\n",
    "    # Clear previous output\n",
    "    clear_output(wait=True)\n",
    "\n",
    "    # Define object-oriented interface\n",
    "    fig, axes = plt.subplots(1, 2, figsize=(12, 5))\n",
    "\n",
    "    sns.lineplot(data=df_plot, x=\"Step\", y=\"Training Loss\", hue=\"Model\", palette=\"hls\", marker=\"o\", ax=axes[0])\n",
    "    axes[0].xaxis.set_tick_params(length=0)\n",
    "    axes[0].yaxis.set_tick_params(length=0)\n",
    "    axes[0].spines[[\"right\", \"top\"]].set_visible(False)\n",
    "    axes[0].plot(1, 0, \">k\", transform=axes[0].transAxes, clip_on=False)\n",
    "    axes[0].plot(0, 1, \"^k\", transform=axes[0].transAxes, clip_on=False)\n",
    "    # axes[0].set_title(\"Training Loss\", weight=\"bold\")\n",
    "    axes[0].set_xlabel(\"Steps\", weight=\"bold\")\n",
    "    axes[0].set_ylabel(\"Training Loss\", weight=\"bold\")\n",
    "    axes[0].grid(True, linestyle=\"--\", linewidth=0.5)\n",
    "    axes[0].legend(title=\"Models\", title_fontsize=\"10\", fontsize=\"8\", loc=\"upper right\")\n",
    "    axes[0].set_xlim(0, 210)\n",
    "    axes[0].set_ylim(0, 15)\n",
    "    axes[0].set_xticks([20, 40, 60, 80, 100, 120, 140, 160, 180, 200])\n",
    "    axes[0].set_xticklabels([20, 40, 60, 80, 100, 120, 140, 160, 180, 200])\n",
    "    axes[0].set_yticks([2, 4, 6, 8, 10, 12, 14])\n",
    "    axes[0].set_yticklabels([2, 4, 6, 8, 10, 12, 14])\n",
    "\n",
    "    sns.lineplot(data=df_plot, x=\"Step\", y=\"Validation Loss\", hue=\"Model\", palette=\"hls\", marker=\"o\", ax=axes[1])\n",
    "    axes[1].xaxis.set_tick_params(length=0)\n",
    "    axes[1].yaxis.set_tick_params(length=0)\n",
    "    axes[1].spines[[\"right\", \"top\"]].set_visible(False)\n",
    "    axes[1].plot(1, 0, \">k\", transform=axes[1].transAxes, clip_on=False)\n",
    "    axes[1].plot(0, 1, \"^k\", transform=axes[1].transAxes, clip_on=False)\n",
    "    # axes[1].set_title(\"Validation Loss\", weight=\"bold\")\n",
    "    axes[1].set_xlabel(\"Steps\", weight=\"bold\")\n",
    "    axes[1].set_ylabel(\"Validation Loss\", weight=\"bold\")\n",
    "    axes[1].grid(True, linestyle=\"--\", linewidth=0.5)\n",
    "    axes[1].legend(title=\"Models\", title_fontsize=\"10\", fontsize=\"8\", loc=\"upper right\")\n",
    "    axes[1].set_xlim(0, 210)\n",
    "    axes[1].set_ylim(0, 15)\n",
    "    axes[1].set_xticks([20, 40, 60, 80, 100, 120, 140, 160, 180, 200])\n",
    "    axes[1].set_xticklabels([20, 40, 60, 80, 100, 120, 140, 160, 180, 200])\n",
    "    axes[1].set_yticks([2, 4, 6, 8, 10, 12, 14])\n",
    "    axes[1].set_yticklabels([2, 4, 6, 8, 10, 12, 14])\n",
    "\n",
    "    # Adjust layout\n",
    "    fig.tight_layout()\n",
    "\n",
    "    # Display the figure\n",
    "    plt.show()"
   ]
  },
  {
   "cell_type": "code",
   "execution_count": 14,
   "metadata": {
    "colab": {
     "base_uri": "https://localhost:8080/",
     "height": 600,
     "referenced_widgets": [
      "0c4bbfca2b1e48808cf124e1a710f6e5",
      "ff86a6b911314a82b18128377dae9bf5",
      "f3e6d29313e247448ce61c001462b962",
      "83d19754c9c44229954bf0cff489fcc2",
      "44064dbe679046d1b2a0c673c3a21c41",
      "fec52f7b656544459efdd9d3e7c9c882",
      "7ad61334fb9c4927a8f734e99c09bfdf"
     ]
    },
    "executionInfo": {
     "elapsed": 2212,
     "status": "ok",
     "timestamp": 1722466080045,
     "user": {
      "displayName": "BOFENG FU",
      "userId": "12502377591132971488"
     },
     "user_tz": 150
    },
    "id": "-PMfB4Mr_nFy",
    "outputId": "09d78a5d-ee26-4c75-95ed-56a9f7ccb611"
   },
   "outputs": [
    {
     "data": {
      "application/vnd.jupyter.widget-view+json": {
       "model_id": "0c4bbfca2b1e48808cf124e1a710f6e5",
       "version_major": 2,
       "version_minor": 0
      },
      "text/plain": [
       "interactive(children=(SelectMultiple(description='Model', options=('BART-BASE', 'BART-LARGE', 'BART-LARGE-CNN'…"
      ]
     },
     "metadata": {},
     "output_type": "display_data"
    }
   ],
   "source": [
    "# Define widget interaction function\n",
    "interactive_widget = widgets.interactive(f, model=model_widget)\n",
    "\n",
    "# Display the interactive widget\n",
    "display(interactive_widget)"
   ]
  },
  {
   "cell_type": "markdown",
   "metadata": {
    "id": "do73eOT6ukNP"
   },
   "source": [
    "- Both training loss and validation loss are constantly decreasing, indicating no overfitting during the training. This is rare to see if we train a large model from scratch with a small dataset, proving the superiority of transfer learning methods.\n",
    "\n",
    "- The BART-LARGE-CNN model and T5-BASE model are nearly converged on the dataset since their learning curves decline steadily at the beginning and then gradually level off.\n",
    "\n",
    "- The T5-LARGE model still needs more training epochs to converge due to its huge parameter searching space.\n"
   ]
  },
  {
   "cell_type": "markdown",
   "metadata": {
    "id": "VtC1yrhbI4sg"
   },
   "source": [
    "## 6. Model Training Time"
   ]
  },
  {
   "cell_type": "markdown",
   "metadata": {
    "id": "tYdUQFtEuoit"
   },
   "source": [
    "In the table below, I list the training time per sample and training time per step for each model.\n",
    "\n",
    "Both training times are proportional to the models' sizes. Larger models need longer training time, especially during backpropagations.\n"
   ]
  },
  {
   "cell_type": "markdown",
   "metadata": {
    "id": "fqebIziZJAE8"
   },
   "source": [
    "| Experiment Name | Training Time Per Sample (s) | Training Time Per Step (s) |\n",
    "| ---  | ---  | ---  |\n",
    "| BART-BASE | 0.1932 | 0.7675 |\n",
    "| BART-LARGE | 0.5838 | 2.3148 |\n",
    "| BART-LARGE-CNN | 0.5679 | 2.2573 |\n",
    "| T5-SMALL | 0.1102 | 0.4374 |\n",
    "| T5-BASE | 0.4008 | 1.5924 |\n",
    "| T5-LARGE | 1.5220 | 3.0442 |"
   ]
  },
  {
   "cell_type": "markdown",
   "metadata": {
    "id": "5eDnQFxN0qkY"
   },
   "source": [
    "## 7. Performance Evaluation"
   ]
  },
  {
   "cell_type": "markdown",
   "metadata": {
    "id": "R8BfcsCxurvi"
   },
   "source": [
    "\n",
    "In this section, I evaluate the performances of different models after fine-tuning. I use the same evaluation metrics as the pre-training evaluation so that we can compare the learning processes.\n"
   ]
  },
  {
   "cell_type": "markdown",
   "metadata": {
    "id": "aFm6Qal2091M"
   },
   "source": [
    "| Experiment Name | ROUGE1 | ROUGE2 | ROUGEL | ROUGELsum | Mean Generated Length |\n",
    "| --- | --- | --- | --- | --- | --- |\n",
    "| BART-BASE | 28.994667 | 11.070305 | 21.819994 | 25.863156\t | 22.533333 |\n",
    "| BART-LARGE | 33.582623 | 11.320112 | 21.748220 | 30.986846 | 50.400000 |\n",
    "| BART-LARGE-CNN | **40.593942** | **19.043638** | **29.218974** | **38.051335** | **51.333333** |\n",
    "| T5-SMALL | 29.184568 | 9.239417 | 21.137162 | 24.868365 | 45.333333 |\n",
    "| T5-BASE | 33.297391 | 15.520506 | 24.143479 | 29.125728 | 49.866667 |\n",
    "| T5-LARGE | 29.844413 | 10.481502 | 21.390539 | 26.458180 | 31.600000 |"
   ]
  },
  {
   "cell_type": "markdown",
   "metadata": {
    "id": "4NCQpAgxvNTH"
   },
   "source": [
    "- The BART-LARGE-CNN model provides the best results overall.\n",
    "\n",
    "- The BART-LARGE model provides the second-best results in the experiment, followed by the T5-BASE model.\n",
    "\n",
    "- The BART-BASE model and T5-SMALL model deliver the worst performance due to their limited learnable parameter spaces. As a result, we should only consider them when we want to cast a glance at a task.\n",
    "\n",
    "- Similar to what we have observed in the pre-training evaluation, the model's performance increases with the capacity of the model.\n",
    "\n",
    "- Worth noticing that the BART-LARGE model performs much better than the T5-LARGE model even though the BART-LARGE model only has 406M parameters, whereas the T5-LARGE model has 770M parameters, indicating that larger models are not necessarily the better ones."
   ]
  },
  {
   "cell_type": "markdown",
   "metadata": {
    "id": "0UEXydVrOkkq"
   },
   "source": [
    "## 8. Improvement Rates of Models After Training\n",
    "\n"
   ]
  },
  {
   "cell_type": "markdown",
   "metadata": {
    "id": "QLFxFDyM1QUX"
   },
   "source": [
    "| Experiment Name | Pre-training ROUGELsum | Post-training ROUGELsum | Improvement Rate (%) |\n",
    "| --- | --- | --- | --- |\n",
    "| BART-BASE | 25.038473 | 25.863156 | <font color=\"red\">+3.29 &#8593;</font> |\n",
    "| BART-LARGE | 24.395673 | 30.986846 | <font color=\"red\">+27.02 &#8593;</font> |\n",
    "| BART-LARGE-CNN | 34.358572 | 38.051335 | <font color=\"red\">+10.75 &#8593;</font> |\n",
    "| T5-SMALL | 24.276790 | 24.868365 | <font color=\"red\">+2.44 &#8593;</font> |\n",
    "| T5-BASE | 30.993596 | 29.125728 | <font color='blue'>-6.03 &#8595;</font> |\n",
    "| T5-LARGE | 26.753200 | 26.458180 | <font color='blue'>-1.10 &#8595;</font> |"
   ]
  },
  {
   "cell_type": "markdown",
   "metadata": {
    "id": "mPV1Wa59vTql"
   },
   "source": [
    "The improvement rates of models after training are shown in the above table.\n",
    "\n",
    "- Surprisingly, the BART-BASE model picks up the most knowledge during the training process and surpasses the T5-BASE model and T5-LARGE model after fine-tuning. Considering that it has 406M parameters, it could be a nice choice to start with when dealing with a new task, balancing between the training expenses and final performance.\n",
    "\n",
    "- Despite having the best performance before fine-tuning, BART-LARGE-CNN still has a 10.75% increment after the training. This proves the effectiveness of our training methods.\n",
    "\n",
    "- All the BART family models benefit from the training, suggesting that BART has a better learning process. However, only the T5-SMALL model in the T5 family has better performance after training. This indicates that the T5 models are hard to train probably because of their Text-to-Text input and output scheme."
   ]
  },
  {
   "cell_type": "markdown",
   "metadata": {
    "id": "VJJ5-CfNvWnj"
   },
   "source": [
    "## 9. Ablation Studies"
   ]
  },
  {
   "cell_type": "markdown",
   "metadata": {
    "id": "q3PbchIavabL"
   },
   "source": [
    "In the ablation studies, I compare the performance of models trained with and without advanced fine-tuning techniques including layer freezing and discriminative fine-tuning to identify the effectiveness of these methods.\n",
    "\n",
    "- For the layer freezing, I freeze the first 6 layers in the encoder and decoder, respectively. Since I am using PyTorch, I set the \"requires grad\" attribute to \"False\" for the layers that are to be frozen.\n",
    "\n",
    "- For the discriminative fine-tuning, I assign different learning rates to layers. The first 6 layers in the encoder and decoder are assigned a learning rate of 1e-5 and the last 6 layers in the encoder and decoder are assigned a learning rate of 3e-5.\n",
    "\n",
    "As we can see from the diagrams below, all three models are steadily learning, but the model trained with standard methods has the lowest loss function."
   ]
  },
  {
   "cell_type": "markdown",
   "metadata": {
    "id": "IkKoMGH64zl3"
   },
   "source": [
    "![train_and_val_adv.png](data:image/png;base64,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)"
   ]
  },
  {
   "cell_type": "markdown",
   "metadata": {
    "id": "SeRPojPvvidF"
   },
   "source": [
    "The experiment results reveal that the benefits of such methods are limited.\n",
    "\n",
    "- Models trained with these methods do not outperform the models trained with standard methods.\n",
    "\n",
    "- Advanced fine-tuning techniques can be useful but are not always beneficial. In the original BART and T5 papers, the authors did not use advanced fine-tuning techniques but still got exceptionally good results."
   ]
  },
  {
   "cell_type": "markdown",
   "metadata": {
    "id": "JogjBVMBO7we"
   },
   "source": [
    "| Experiment Name | Pre-training ROUGELsum | Post-training ROUGELsum | Improvement Rate (%) |\n",
    "| --- | --- | --- | --- |\n",
    "| BART-LARGE-CNN | 34.358572 | 38.051335 | <font color=\"red\">+10.74 &#8593;</font> |\n",
    "| BART-LARGE-CNN-FREEZE | 34.358572 | 35.477216 | +3.26 &#8593; |\n",
    "| BART-LARGE-CNN-DISCRIM | 34.358572 | 35.751566 | +4.05 &#8593; |"
   ]
  },
  {
   "cell_type": "markdown",
   "metadata": {
    "id": "AV0vLn0KvttB"
   },
   "source": [
    "There are two possible explanations for this phenomenon.\n",
    "\n",
    "- First, layer freezing restricts the gradients passing through the early layers, which could potentially harm the model's performance.\n",
    "\n",
    "- Secondly, while layer freezing prevents overfitting when training a large model on a relatively small dataset, there are other techniques for regularization. Therefore, we can still reach good results without advanced fine-tuning techniques."
   ]
  },
  {
   "cell_type": "markdown",
   "metadata": {
    "id": "oegXIDDi_M9Y"
   },
   "source": [
    "## 9. Select a Pre-trained Model"
   ]
  },
  {
   "cell_type": "markdown",
   "metadata": {
    "id": "j1fTZsUyv2Sk"
   },
   "source": [
    "In this section, we conduct a qualitative evaluation of the results of the fine-tuned models. We can check the real-time generated summaries by selecting a model in the dropdown menu."
   ]
  },
  {
   "cell_type": "code",
   "execution_count": null,
   "metadata": {
    "colab": {
     "base_uri": "https://localhost:8080/",
     "height": 759,
     "referenced_widgets": [
      "89c4ccf3008240b1ae4c113d6137ea95",
      "7e9e5b47b2ab4cbb8b3c2535055ac28b",
      "598c91676c1b4443ae53d2acbe6cd7bf",
      "ddd02b9e4b3a44c58b3a3cc35737c548",
      "634dcf822ac94219880221834b6273e8",
      "90604e9a26734a0f80ae4741dce39df4",
      "ebddb04a39c24f6e8e527d63d299a385",
      "bfc28f5f530b493591f894e8104ae4c0",
      "ba9ae7ccf1f947899dc50f16aec06d80",
      "55c39d91a408458d9a4d89ed43dd5662",
      "c4c735dfad054264b3747b32ad74253a",
      "051fd27aa3d44c9aaaa7a2aaae637bdd",
      "4b824ac08ab0435b90043d924de4fee9",
      "a01cc2d0aeca478a9c31cb308a131188",
      "cd47ecad02f94315874f07c5b8ea06df",
      "bd0b7c4a8cf84d9698899d35134f1f49",
      "2c51bb8f0a8347418b6f9ded733ae612",
      "58eca0d28f824d62a774e1bbcb966e87",
      "8d1bdf6695634f89b5b1216c203cd4f6",
      "9a588a9210914ee08a7db3a20d0d5e65",
      "5bcbd5f48cab41ae81050c5e4a9be633",
      "b38808ee9903438193f757e3264d40ef",
      "907b822caf764af59497f4f6c409c743",
      "4077370f113e4152bdf6eab150b4d071",
      "465dac43dc5a499c80cf8482d5f95190",
      "b27da750fa7c4d3698d86d7dd5b6326d",
      "a367c4ab677f4ef9acf45a7ee10e3560",
      "60ea1581f59940c281459cae147cbd52",
      "9ce0bd893537446a878c90d50b4802c9",
      "c29d4145d8554d06b529847ca8bd8227",
      "f5e17dbc8be24cdca987ad3799db7d5e",
      "72dbb1f236e2453887bfecc18b5e0b7b",
      "b4dc2725bbe743e8ad9590d0a4d107b1",
      "3963ba024d4a48929363fe524cbefb0e",
      "13d8ff174305474697c90f1d90539c57",
      "9963fde8504d4d76b9a66d2b3d9df42e",
      "ad2c6e71ff1a47be978c2c7b999a8475",
      "b24b2297e97d4a37bb45613fcf811c47",
      "014bbb3da8ca467cbbafa31053da74f5",
      "6ae05bc6a5474b9bbd3e3a9fd5400095",
      "8d465d66f44d4b5e892ad34f1a6df36c",
      "228b5063581d4afa85c171ed802fc256",
      "a0c609a1b5b84855ab1ed187be444d92",
      "7c785bcd841d472599fdca0e841fa2dd",
      "aef835784c1e4b4b9006c17392d25e0b",
      "0930fcd1f3164f25bf01ec26fe498b73",
      "2c7af1ac09c64163bb8cacef624e26f8",
      "db04d0a2188a4db8968aa9f3b5a07490",
      "3dc24812164c47108b79edc8267f6c7b",
      "ed830b8462ff477c929eb61fd760827a",
      "85bf54d71b5444b3aae470eb79cb479d",
      "a934e0415b564b0c85be4f60eee7afb6",
      "7ea1680dee5a47139a88081a70bbe751",
      "77a627079c0a4f60be6f0d40f1063ba0",
      "6308562f30d945ec87268b05132912b3",
      "6b104b77cd4543579edd09d45a682e21",
      "5f9329a92af54e0b8998a319155d9203",
      "3d0b0a177cb040c69ce8eb3c2543304a",
      "e014c692e21b47e088f07215a4169357",
      "4313d9f7330b4f53840a5355768d094a",
      "ae2f244bf5d04ec393b008d856e46fe9",
      "9b8a8d5af8404dd99dd6e137aa542dbd",
      "5b9d3536414940b5b3ee56889eab7ce6",
      "1528075b852f41159685e61270ad35c3",
      "ed2b5a5e3ca942739d508027fdd80b52",
      "d3424f64e85c473d9c4931f08d0d12df",
      "581ec354920c4e5583d3ad3f57ad70a1",
      "29570e0fea08489f977d835ef2274626",
      "8c5f098d74b54abe88b65f3f99c905f8",
      "6d3c999ed22a414abfd59089f0bd2b93",
      "af342812e6354bc1a5530e0fd42e833d",
      "3608ab7008a1438fbed7edcb343053c4",
      "f31692a471c9491e9ff8440d6d7a5c91",
      "1de44862c11f4a17a748852056e5b0d4",
      "be035ae2b5f8433ba90d89683c861dde",
      "5bb5c5bf4e214f69886753f2d243f6e4",
      "236c14e28b4d45e2bd13e5ff4cc3340d",
      "843f5bab6d5a42a7ae88563d251eed50",
      "00d67472602445ab89019cd916bf1f1a",
      "a39e33c3536548e2b80517db897e5e20",
      "5a96d8ad2958485cb2c915dc184a0621",
      "9ab4b04bd1654e6292be921134aa9b0b",
      "b86254c1dbd042159099c04113b5c979",
      "7ac05aab8682491584fcc3a6a827d703",
      "b756e0241cdf43379851477f35f69ada",
      "ce42c6e4be5e4d9ab65a0ef0db192236",
      "37d6f1a8e4464ea38afc5432a439c0e5",
      "1d8d4045d7454da0905b9ed5e8a7c08a",
      "1af240715ec74167911342fd04c85902",
      "b24f1112a55e491baa166d884a08679f",
      "b1245bad083e47028c1d8fd41137c501",
      "ae323fe8127146bf929b8b4ff70505b9",
      "6de0bac214a14deaaada99cc10c7ec53",
      "3f7efd599c154459a3dda86207c9a593",
      "72a9fa3e399245f481972355f0481003",
      "26323e9444b04ad7aa8b34068ad3304b",
      "daecda6ee3804e28ae49f1c119408ea7",
      "efe24d26a182464394dacb4127275353",
      "b45939e25fcb4ee18b62275a332bee87",
      "41347ab0d85449ea9c1910bbc60fdb98",
      "45143729d6ea4b62977c4978b481f882",
      "4aa2baf78eba402090e80f7599851544",
      "8ed3601bdd934d95b2fb12f2ab0e576c",
      "ec2e6faa07484e21bb8615fb672df761",
      "2e4f72fc754548a6bc9241c72400abd1",
      "29d6d36ce29a44d6a8df4d7fddd37f49",
      "020569b06e344a3597d01b9cf09af3b6",
      "1d8d23ed4f9b4d6c9949f6db5aa1eb58",
      "698d256109284b1692d10351cd49bcb0",
      "3274d6af67be4c99b4e1a3d1426f7134",
      "b1adf6142ad4439182733967a71e601b",
      "f389a7d9242a4c9eb78678311d8b5fc0",
      "3327086964c44de9b35703a042f79fc4",
      "5240b784eb4e425bb900d0f73896d6fa",
      "237b82b9414947f3bb38e482927f5106",
      "b463d4f263fd41019ebd18132943d4f7",
      "2767d754d87741c9905f119b0a4fb550",
      "c339a10697d24b8b8ee311cb400c257e",
      "616b9951dbdd438a883f867252b35ca4",
      "68694bb968e54ed2b431c5079e58a92c",
      "f1663b4fc8de45ae8dc5c0dd74668316",
      "60da73e7abfa46f588ba3dcc98e16f03",
      "e829fc1b3bf848d4be9ab66f0c51b8ec",
      "f3a70a0840654010bd693b1aad7980f4",
      "2ee777c0923d4ae69dedc21d2b37f32f",
      "aa92580fb9734b0dbcabbb2292273abc",
      "cb495343c40544a8ab5990a1ff1d03fa",
      "148df40735c546c5958ab250f4ad8f18",
      "75946be3ca9f41c399ec8bc2d3e0bfce",
      "d5d2550992ee405eb49bd89eaac34f4b",
      "76be871a4cf34d0f9cc2cc22dd108a19",
      "e20f8557771746219c983deec0a8426b",
      "2acab4a785b54357a3ff5f5a7c2e0674",
      "01470274ca164ba0b024aa97741be74b",
      "7397d6d60eee40efabd7251c2fadca90",
      "29acafcfac364bd8971f668c1fbeb219",
      "30cfa8a0f5454f09ac1c7b1ada5db308",
      "649f21ac38934e069cb6f51f51cd26bb",
      "351ad0603ed8414dacbc105e6d9339b2",
      "d12711a50373475eb832bae880da4ba1",
      "4a1863b0d61e40fa9faa4de2c31fab15",
      "0ef758be1d074262bca0823cca01b9bd",
      "bce852b903854af18b6cd869f855c392",
      "b5fd7d934c5b4814a6e1d2a42612c15a",
      "5d57e28003c04000885292bea0cf0816",
      "c62220e4f3ff483b93261702bb5c8aef",
      "1d31f2283ac54b5688f0f10f4e375b0d",
      "70aea760a22d45819d9ebf0ade721026",
      "8eccb8bae9ef4c44bbfc0aa030a41b90",
      "94e30502ed0c4a699f8510d4def1d7e2",
      "55f4cee6c978476abe365cffdc344ad9",
      "4f93351999234eecb3d8651adfdf0f72",
      "ab3e74c76e9344fa8e72accc8ec48d47",
      "e2a4c87f6f8d452e96c7a2054cffa482",
      "dbd1161cce63429f8ef5c1c8cf010ab0",
      "589b75aabda748e58472931e8fe3c772",
      "3b867a722fe642fd86c7c38fd3363baa",
      "57b4aee03b85431c9c0dafca1e462710",
      "dd00ae561c9e43058409130946c925a9",
      "d203a613fbc64218a2dc40110a8cea54",
      "f59fc614a96e441f9ad3a392ff7eb973",
      "498468cdb3ab481daa01a6ff758bb975",
      "98865190a3c84c1291ec8cc086e44b60",
      "34bec9724f7e4805bb9f669f57630df6",
      "e97823272c92403d888051a8c3cdae13",
      "c059a9d99c6e4b07a1ea605b6ee025e1",
      "698bb5224f9442948e0accb5bb479a04",
      "af09f347972f4003b07441903c41a0ed",
      "6556a3768851428e8750b94c8ae418b8",
      "8969267dd21644e69adb75493b0cdf41",
      "9841885eab3643d5bb4f462be94ef04d",
      "e0cb5d0bb1b44395ba335d2a330bce7d",
      "511489cd74a14861835b9f9115aeb35e",
      "14d7e5c25168403f95d16a3eb6d1aaa9",
      "23c9ee4679ef4943b5ff6598cee51291",
      "87987db36622451fb74e6314edfb0374",
      "69359b6171c44efba3e76ec7f9d0d40b",
      "db8662fd241d451f9fdb834c4898b1f4",
      "2feed378c53d4f6d80843215cdc3f9bb",
      "cff3dc2542a04e03a389299215041956",
      "7ad2c6c3c0ad4c219ceaeede9ed08b8f",
      "ed2c1e1629fb408c8c5fa3cf1a3ade65",
      "4f2eed2564d145c584e1a83678fcb83d",
      "5b5434e092664fcb802ab8195f4683c6",
      "a073768dd25d474db67efb305fdf6b2c",
      "bf31287fff12431da2dd8c54bff468e4",
      "aa297d83899b471188375acecd66cbd6",
      "aba933d3180d42899f45a3e95000d562",
      "6aec7b4c7a2f40b994d71e850ec6f248",
      "9d5d00c458e742f2884e422136b5c85c",
      "f0a93ded951b4984a5165cac639a6cf1",
      "1a3eae2f5ea24ee18175b25e46bb4596",
      "cc62b8e2f8e94b3eb3c6af6eba32e0f5",
      "61e5b2dd730045aeb4c8eed44d0d8dec",
      "5eb6e2cde97844c891dd46dbdc655193",
      "a3e9fd0d18c64e95bf4df2c98e727c35",
      "f3f3039309ad4963b701a092e15b4d2b",
      "6ef1df7bb53e45c2b2cf6b15b2edf478",
      "357210935df44cf7a0b42800987d7fa6",
      "1789bfc5b8ef4a2e8d4df57f22f5bf16",
      "d9838e863114427cbc3b27594fe9e781",
      "0b9130bb45a741fc8eeeb2d42711e85f",
      "8a3c6f642da844eb890f998e5846e5f2",
      "2debcb3dac64493f8f8113d1ab7aabb1",
      "d716f8784a094a0aa9a31196c8f02a19",
      "be3bcb9913b542b08adfe0cb92b2859d",
      "3b51cf70592a4f03812b51c258e3b7b8",
      "551589271a514d85929ddb2d29e64a00",
      "328d53ada96e4bf58402e52a075f4db6",
      "446d585c12a14f5090995a2c073cb483",
      "e380618fcb0d4556b05a17370d100964",
      "2273844475404bfea229fec28d1b6b55",
      "e93965ff028d448c98e0a0f59335210f",
      "929ebaec61d54d04ada93f23858d3b60",
      "6322902c1a6f4fec9e11880ddb85e3dc",
      "dbdf823481fd4af8bb6c6043ce7b867d",
      "b457d1f5dd0a49728a80cf39dbb4c832",
      "8a9e73b280404854ae0441fce3852c06",
      "8c151db464124b7497f06319d38e2473",
      "272c1b34b5e9401f89328a4da46e344f",
      "77ebf5095bb24b38951a2722aae8d67e",
      "2217f3e018514151ab993bc63a407a42",
      "e0772d371a9c4e97b556602ccc3656fa",
      "8e0a55833a894987adfc274849de2870",
      "ffbdebe46ecd44d8b2f78be4c5468cab",
      "c0fafc543ddd4109a66f3a33c77ee258",
      "3220caef790e44dba311186e293731a7",
      "7e2fb13bc0614865a029ad88f343bfb3",
      "6f4ef16fb7ee4a33b92da52fc891abd8",
      "4a7926a2db424efe9c3a31753672d0cb",
      "4580092f8cc54e33a3961283e8be3a62",
      "60dc7015948b4a18841bea7c992626b0",
      "a1c72d3e7f714807b17107cdc9064820",
      "c778e3c9888149368c2846c9eff56707",
      "f2695e48e0db4c0b96535425ae1b6304",
      "14c2d4e3910c40ec92ebe30447496265",
      "e8a6aacb08d5494d9b44d005b04db3de",
      "0d4e868a7af0402ea1e209982102f7db",
      "eeac1dcf758d45a19b7f56edf046250a",
      "ef9ffb9cc4414ccda3bf218f43415efa",
      "c1ddb686c54b438a9512aed2d605fdfd",
      "a99a3fffeaa84128aaee580e08250504"
     ]
    },
    "executionInfo": {
     "elapsed": 308319,
     "status": "ok",
     "timestamp": 1722466388359,
     "user": {
      "displayName": "BOFENG FU",
      "userId": "12502377591132971488"
     },
     "user_tz": 150
    },
    "id": "NN3oQZB6OqP8",
    "outputId": "733f4c0c-b891-4d34-a79d-c89fbe802142"
   },
   "outputs": [
    {
     "data": {
      "application/vnd.jupyter.widget-view+json": {
       "model_id": "89c4ccf3008240b1ae4c113d6137ea95",
       "version_major": 2,
       "version_minor": 0
      },
      "text/plain": [
       "vocab.json:   0%|          | 0.00/899k [00:00<?, ?B/s]"
      ]
     },
     "metadata": {},
     "output_type": "display_data"
    },
    {
     "data": {
      "application/vnd.jupyter.widget-view+json": {
       "model_id": "051fd27aa3d44c9aaaa7a2aaae637bdd",
       "version_major": 2,
       "version_minor": 0
      },
      "text/plain": [
       "merges.txt:   0%|          | 0.00/456k [00:00<?, ?B/s]"
      ]
     },
     "metadata": {},
     "output_type": "display_data"
    },
    {
     "data": {
      "application/vnd.jupyter.widget-view+json": {
       "model_id": "907b822caf764af59497f4f6c409c743",
       "version_major": 2,
       "version_minor": 0
      },
      "text/plain": [
       "tokenizer.json:   0%|          | 0.00/1.36M [00:00<?, ?B/s]"
      ]
     },
     "metadata": {},
     "output_type": "display_data"
    },
    {
     "data": {
      "application/vnd.jupyter.widget-view+json": {
       "model_id": "3963ba024d4a48929363fe524cbefb0e",
       "version_major": 2,
       "version_minor": 0
      },
      "text/plain": [
       "config.json:   0%|          | 0.00/1.72k [00:00<?, ?B/s]"
      ]
     },
     "metadata": {},
     "output_type": "display_data"
    },
    {
     "data": {
      "application/vnd.jupyter.widget-view+json": {
       "model_id": "aef835784c1e4b4b9006c17392d25e0b",
       "version_major": 2,
       "version_minor": 0
      },
      "text/plain": [
       "tokenizer_config.json:   0%|          | 0.00/26.0 [00:00<?, ?B/s]"
      ]
     },
     "metadata": {},
     "output_type": "display_data"
    },
    {
     "data": {
      "application/vnd.jupyter.widget-view+json": {
       "model_id": "6b104b77cd4543579edd09d45a682e21",
       "version_major": 2,
       "version_minor": 0
      },
      "text/plain": [
       "vocab.json:   0%|          | 0.00/899k [00:00<?, ?B/s]"
      ]
     },
     "metadata": {},
     "output_type": "display_data"
    },
    {
     "data": {
      "application/vnd.jupyter.widget-view+json": {
       "model_id": "581ec354920c4e5583d3ad3f57ad70a1",
       "version_major": 2,
       "version_minor": 0
      },
      "text/plain": [
       "merges.txt:   0%|          | 0.00/456k [00:00<?, ?B/s]"
      ]
     },
     "metadata": {},
     "output_type": "display_data"
    },
    {
     "data": {
      "application/vnd.jupyter.widget-view+json": {
       "model_id": "843f5bab6d5a42a7ae88563d251eed50",
       "version_major": 2,
       "version_minor": 0
      },
      "text/plain": [
       "tokenizer.json:   0%|          | 0.00/1.36M [00:00<?, ?B/s]"
      ]
     },
     "metadata": {},
     "output_type": "display_data"
    },
    {
     "data": {
      "application/vnd.jupyter.widget-view+json": {
       "model_id": "1af240715ec74167911342fd04c85902",
       "version_major": 2,
       "version_minor": 0
      },
      "text/plain": [
       "config.json:   0%|          | 0.00/1.63k [00:00<?, ?B/s]"
      ]
     },
     "metadata": {},
     "output_type": "display_data"
    },
    {
     "data": {
      "application/vnd.jupyter.widget-view+json": {
       "model_id": "41347ab0d85449ea9c1910bbc60fdb98",
       "version_major": 2,
       "version_minor": 0
      },
      "text/plain": [
       "vocab.json:   0%|          | 0.00/899k [00:00<?, ?B/s]"
      ]
     },
     "metadata": {},
     "output_type": "display_data"
    },
    {
     "data": {
      "application/vnd.jupyter.widget-view+json": {
       "model_id": "b1adf6142ad4439182733967a71e601b",
       "version_major": 2,
       "version_minor": 0
      },
      "text/plain": [
       "merges.txt:   0%|          | 0.00/456k [00:00<?, ?B/s]"
      ]
     },
     "metadata": {},
     "output_type": "display_data"
    },
    {
     "data": {
      "application/vnd.jupyter.widget-view+json": {
       "model_id": "60da73e7abfa46f588ba3dcc98e16f03",
       "version_major": 2,
       "version_minor": 0
      },
      "text/plain": [
       "tokenizer.json:   0%|          | 0.00/1.36M [00:00<?, ?B/s]"
      ]
     },
     "metadata": {},
     "output_type": "display_data"
    },
    {
     "data": {
      "application/vnd.jupyter.widget-view+json": {
       "model_id": "2acab4a785b54357a3ff5f5a7c2e0674",
       "version_major": 2,
       "version_minor": 0
      },
      "text/plain": [
       "config.json:   0%|          | 0.00/1.58k [00:00<?, ?B/s]"
      ]
     },
     "metadata": {},
     "output_type": "display_data"
    },
    {
     "data": {
      "application/vnd.jupyter.widget-view+json": {
       "model_id": "b5fd7d934c5b4814a6e1d2a42612c15a",
       "version_major": 2,
       "version_minor": 0
      },
      "text/plain": [
       "tokenizer_config.json:   0%|          | 0.00/2.32k [00:00<?, ?B/s]"
      ]
     },
     "metadata": {},
     "output_type": "display_data"
    },
    {
     "data": {
      "application/vnd.jupyter.widget-view+json": {
       "model_id": "dbd1161cce63429f8ef5c1c8cf010ab0",
       "version_major": 2,
       "version_minor": 0
      },
      "text/plain": [
       "spiece.model:   0%|          | 0.00/792k [00:00<?, ?B/s]"
      ]
     },
     "metadata": {},
     "output_type": "display_data"
    },
    {
     "data": {
      "application/vnd.jupyter.widget-view+json": {
       "model_id": "c059a9d99c6e4b07a1ea605b6ee025e1",
       "version_major": 2,
       "version_minor": 0
      },
      "text/plain": [
       "tokenizer.json:   0%|          | 0.00/1.39M [00:00<?, ?B/s]"
      ]
     },
     "metadata": {},
     "output_type": "display_data"
    },
    {
     "name": "stderr",
     "output_type": "stream",
     "text": [
      "You are using the default legacy behaviour of the <class 'transformers.models.t5.tokenization_t5.T5Tokenizer'>. This is expected, and simply means that the `legacy` (previous) behavior will be used so nothing changes for you. If you want to use the new behaviour, set `legacy=False`. This should only be set if you understand what it means, and thoroughly read the reason why this was added as explained in https://github.com/huggingface/transformers/pull/24565\n"
     ]
    },
    {
     "data": {
      "application/vnd.jupyter.widget-view+json": {
       "model_id": "69359b6171c44efba3e76ec7f9d0d40b",
       "version_major": 2,
       "version_minor": 0
      },
      "text/plain": [
       "spiece.model:   0%|          | 0.00/792k [00:00<?, ?B/s]"
      ]
     },
     "metadata": {},
     "output_type": "display_data"
    },
    {
     "data": {
      "application/vnd.jupyter.widget-view+json": {
       "model_id": "aba933d3180d42899f45a3e95000d562",
       "version_major": 2,
       "version_minor": 0
      },
      "text/plain": [
       "tokenizer.json:   0%|          | 0.00/1.39M [00:00<?, ?B/s]"
      ]
     },
     "metadata": {},
     "output_type": "display_data"
    },
    {
     "data": {
      "application/vnd.jupyter.widget-view+json": {
       "model_id": "357210935df44cf7a0b42800987d7fa6",
       "version_major": 2,
       "version_minor": 0
      },
      "text/plain": [
       "config.json:   0%|          | 0.00/1.21k [00:00<?, ?B/s]"
      ]
     },
     "metadata": {},
     "output_type": "display_data"
    },
    {
     "data": {
      "application/vnd.jupyter.widget-view+json": {
       "model_id": "446d585c12a14f5090995a2c073cb483",
       "version_major": 2,
       "version_minor": 0
      },
      "text/plain": [
       "spiece.model:   0%|          | 0.00/792k [00:00<?, ?B/s]"
      ]
     },
     "metadata": {},
     "output_type": "display_data"
    },
    {
     "data": {
      "application/vnd.jupyter.widget-view+json": {
       "model_id": "77ebf5095bb24b38951a2722aae8d67e",
       "version_major": 2,
       "version_minor": 0
      },
      "text/plain": [
       "tokenizer.json:   0%|          | 0.00/1.39M [00:00<?, ?B/s]"
      ]
     },
     "metadata": {},
     "output_type": "display_data"
    },
    {
     "data": {
      "application/vnd.jupyter.widget-view+json": {
       "model_id": "60dc7015948b4a18841bea7c992626b0",
       "version_major": 2,
       "version_minor": 0
      },
      "text/plain": [
       "config.json:   0%|          | 0.00/1.21k [00:00<?, ?B/s]"
      ]
     },
     "metadata": {},
     "output_type": "display_data"
    }
   ],
   "source": [
    "# Example text to summarize\n",
    "my_text = \"The researchers developed a specialized microscopy technique for imaging multiple sides of the fossil antennae to better examine the ants’ sensilla — tiny projections that detect environmental cues. They compared the fossil ants’ suite of sensilla to those of six modern ant species. G. gracilis had two types of sensilla that are known only in ants. These organs are used for identifying nestmates and detecting their alarm pheromones, which notify other ants of threats to the colony. Together, these unique sensilla help ants live together and defend the colony as a single unit. Today, many ant species create massive colonies thousands to millions strong, but the researchers argue that the fossil record suggests that the earliest ants lived in very small colonies of a few dozen nestmates. Despite this, “we can consider that ants lived in a highly advanced social system even in their early evolutionary stages,” Taniguchi says. The new findings suggest that tens of millions of years before they became an ecological force in ecosystems around the world, ants may have been marching together.\"\n",
    "\n",
    "# Initialize a tokenizer\n",
    "bart_base_pretrained_tokenizer = BartTokenizer.from_pretrained(\"facebook/bart-base\")\n",
    "# Initialize a model\n",
    "bart_base_fine_tuned_model = BartForConditionalGeneration.from_pretrained(\"./\" + str(\"BART-BASE\")).to(device)\n",
    "# Summarization pipeline\n",
    "bart_base_summarizer = pipeline(\"summarization\",\n",
    "                            model=bart_base_fine_tuned_model,\n",
    "                            tokenizer=bart_base_pretrained_tokenizer,\n",
    "                            device=device)\n",
    "# Generate summary\n",
    "bart_base_my_summary = bart_base_summarizer(my_text,\n",
    "                        max_length=HYPERS[\"BART-BASE\"][\"PIPELINE_MAX_LENGTH\"],\n",
    "                        min_length=HYPERS[\"BART-BASE\"][\"PIPELINE_MIN_LENGTH\"],\n",
    "                        do_sample=False)\n",
    "\n",
    "# Initialize a tokenizer\n",
    "bart_large_pretrained_tokenizer = BartTokenizer.from_pretrained(\"facebook/bart-large\")\n",
    "# Initialize a model\n",
    "bart_large_fine_tuned_model = BartForConditionalGeneration.from_pretrained(\"./\" + str(\"BART-LARGE\")).to(device)\n",
    "# Summarization pipeline\n",
    "bart_large_summarizer = pipeline(\"summarization\",\n",
    "                    model=bart_large_fine_tuned_model,\n",
    "                    tokenizer=bart_large_pretrained_tokenizer,\n",
    "                    device=device)\n",
    "# Generate summary\n",
    "bart_large_my_summary = bart_large_summarizer(my_text,\n",
    "                        max_length=HYPERS[\"BART-LARGE\"][\"PIPELINE_MAX_LENGTH\"],\n",
    "                        min_length=HYPERS[\"BART-LARGE\"][\"PIPELINE_MIN_LENGTH\"],\n",
    "                        do_sample=False)\n",
    "\n",
    "# Initialize a tokenizer\n",
    "bart_large_cnn_pretrained_tokenizer = BartTokenizer.from_pretrained(\"facebook/bart-large-cnn\")\n",
    "# Initialize a model\n",
    "bart_large_cnn_fine_tuned_model = BartForConditionalGeneration.from_pretrained(\"./\" + str(\"BART-LARGE-CNN\")).to(device)\n",
    "# Summarization pipeline\n",
    "bart_large_cnn_summarizer = pipeline(\"summarization\",\n",
    "                    model=bart_large_cnn_fine_tuned_model,\n",
    "                    tokenizer=bart_large_cnn_pretrained_tokenizer,\n",
    "                    device=device)\n",
    "# Generate summary\n",
    "bart_large_cnn_my_summary = bart_large_cnn_summarizer(my_text,\n",
    "                        max_length=HYPERS[\"BART-LARGE-CNN\"][\"PIPELINE_MAX_LENGTH\"],\n",
    "                        min_length=HYPERS[\"BART-LARGE-CNN\"][\"PIPELINE_MIN_LENGTH\"],\n",
    "                        do_sample=False)\n",
    "\n",
    "# Initialize a tokenizer\n",
    "t5_small_pretrained_tokenizer = T5Tokenizer.from_pretrained(\"t5-small\")\n",
    "# Initialize a model\n",
    "t5_small_fine_tuned_model = T5ForConditionalGeneration.from_pretrained(\"./\" + str(\"T5-SMALL\")).to(device)\n",
    "# Summarization pipeline\n",
    "t5_small_summarizer = pipeline(\"summarization\",\n",
    "                    model=t5_small_fine_tuned_model,\n",
    "                    tokenizer=t5_small_pretrained_tokenizer,\n",
    "                    device=device)\n",
    "# Generate summary\n",
    "t5_small_my_summary = t5_small_summarizer(my_text,\n",
    "                        max_length=HYPERS[\"T5-SMALL\"][\"PIPELINE_MAX_LENGTH\"],\n",
    "                        min_length=HYPERS[\"T5-SMALL\"][\"PIPELINE_MIN_LENGTH\"],\n",
    "                        do_sample=False)\n",
    "\n",
    "# Initialize a tokenizer\n",
    "t5_base_pretrained_tokenizer = T5Tokenizer.from_pretrained(\"t5-base\")\n",
    "# Initialize a model\n",
    "t5_base_fine_tuned_model = T5ForConditionalGeneration.from_pretrained(\"./\" + str(\"T5-BASE\")).to(device)\n",
    "# Summarization pipeline\n",
    "t5_base_summarizer = pipeline(\"summarization\",\n",
    "                    model=t5_base_fine_tuned_model,\n",
    "                    tokenizer=t5_base_pretrained_tokenizer,\n",
    "                    device=device)\n",
    "# Generate summary\n",
    "t5_base_my_summary = t5_base_summarizer(my_text,\n",
    "                        max_length=HYPERS[\"T5-BASE\"][\"PIPELINE_MAX_LENGTH\"],\n",
    "                        min_length=HYPERS[\"T5-BASE\"][\"PIPELINE_MIN_LENGTH\"],\n",
    "                        do_sample=False)\n",
    "\n",
    "# Initialize a tokenizer\n",
    "t5_large_pretrained_tokenizer = T5Tokenizer.from_pretrained(\"t5-large\")\n",
    "# Initialize a model\n",
    "t5_large_fine_tuned_model = T5ForConditionalGeneration.from_pretrained(\"./\" + str(\"T5-LARGE\")).to(device)\n",
    "# Summarization pipeline\n",
    "t5_large_summarizer = pipeline(\"summarization\",\n",
    "                    model=t5_large_fine_tuned_model,\n",
    "                    tokenizer=t5_large_pretrained_tokenizer,\n",
    "                    device=device)\n",
    "# Generate summary\n",
    "t5_large_my_summary = t5_large_summarizer(my_text,\n",
    "                        max_length=HYPERS[\"T5-LARGE\"][\"PIPELINE_MAX_LENGTH\"],\n",
    "                        min_length=HYPERS[\"T5-LARGE\"][\"PIPELINE_MIN_LENGTH\"],\n",
    "                        do_sample=False)"
   ]
  },
  {
   "cell_type": "code",
   "execution_count": 16,
   "metadata": {
    "executionInfo": {
     "elapsed": 30,
     "status": "ok",
     "timestamp": 1722466388359,
     "user": {
      "displayName": "BOFENG FU",
      "userId": "12502377591132971488"
     },
     "user_tz": 150
    },
    "id": "cJAvwBk9KbyY"
   },
   "outputs": [],
   "source": [
    "model_text_widget = widgets.Dropdown(\n",
    "    options=model_qualitative_list,\n",
    "    value=\"BART-LARGE-CNN\",\n",
    "    description=\"Model\",\n",
    ")\n",
    "\n",
    "def k(model):\n",
    "    MODEL_SELECTED = model\n",
    "\n",
    "    if MODEL_SELECTED == \"BART-BASE\":\n",
    "        # Summarization pipeline\n",
    "        summarizer = bart_base_summarizer\n",
    "        my_summary = bart_base_my_summary\n",
    "    elif MODEL_SELECTED == \"BART-LARGE\":\n",
    "        # Summarization pipeline\n",
    "        summarizer = bart_large_summarizer\n",
    "        my_summary = bart_large_my_summary\n",
    "    elif MODEL_SELECTED == \"BART-LARGE-CNN\":\n",
    "        # Summarization pipeline\n",
    "        summarizer = bart_large_cnn_summarizer\n",
    "        my_summary = bart_large_cnn_my_summary\n",
    "    elif MODEL_SELECTED == \"T5-SMALL\":\n",
    "        # Summarization pipeline\n",
    "        summarizer = t5_small_summarizer\n",
    "        my_summary = t5_small_my_summary\n",
    "    elif MODEL_SELECTED == \"T5-BASE\":\n",
    "        # Summarization pipeline\n",
    "        summarizer = t5_base_summarizer\n",
    "        my_summary = t5_base_my_summary\n",
    "    elif MODEL_SELECTED == \"T5-LARGE\":\n",
    "        # Summarization pipeline\n",
    "        summarizer = t5_large_summarizer\n",
    "        my_summary = t5_large_my_summary\n",
    "    else:\n",
    "        raise ValueError(\"Please input correct model name\")\n",
    "\n",
    "    my_results = pd.DataFrame({\"Summary\": my_summary, \"Article\": my_text})\n",
    "\n",
    "    with pd.option_context('display.max_colwidth', None):\n",
    "        styled_my_results = my_results.style.format()\n",
    "        display(styled_my_results.hide())\n"
   ]
  },
  {
   "cell_type": "code",
   "execution_count": 17,
   "metadata": {
    "colab": {
     "base_uri": "https://localhost:8080/",
     "height": 217,
     "referenced_widgets": [
      "87b6781307014e18a10282fcce6ec22c",
      "54ddebaed4b94039a686bdae3ea034e1",
      "797ddc6d409347108bf44a27f0fa2d98",
      "2ba66e32cc69423cade214d24788a8ba",
      "a3ad3349781d46c59677256e591a9903",
      "8c3af64b5339409ebb8b320944df5079",
      "25e94b2d98054dca8b5f434ef163d680"
     ]
    },
    "executionInfo": {
     "elapsed": 260,
     "status": "ok",
     "timestamp": 1722466388604,
     "user": {
      "displayName": "BOFENG FU",
      "userId": "12502377591132971488"
     },
     "user_tz": 150
    },
    "id": "gBfdi9wXKgKs",
    "outputId": "fc965589-835b-412c-b08b-9a8933966b47"
   },
   "outputs": [
    {
     "data": {
      "application/vnd.jupyter.widget-view+json": {
       "model_id": "87b6781307014e18a10282fcce6ec22c",
       "version_major": 2,
       "version_minor": 0
      },
      "text/plain": [
       "interactive(children=(Dropdown(description='Model', index=2, options=('BART-BASE', 'BART-LARGE', 'BART-LARGE-C…"
      ]
     },
     "metadata": {},
     "output_type": "display_data"
    }
   ],
   "source": [
    "# Define widget interaction function\n",
    "interactive_text_widget = widgets.interactive(k, model=model_text_widget)\n",
    "\n",
    "# Display the interactive widget\n",
    "display(interactive_text_widget)"
   ]
  },
  {
   "cell_type": "markdown",
   "metadata": {
    "id": "He04jRDCv0uA"
   },
   "source": [
    "As we can see, the above summary is a simpler abstractive summarization of the original content while preserving key information. This proves the effectiveness of the training process."
   ]
  },
  {
   "cell_type": "markdown",
   "metadata": {
    "id": "1-N-G57g_Flj"
   },
   "source": [
    "## 10. Summary"
   ]
  },
  {
   "cell_type": "markdown",
   "metadata": {
    "id": "b1GBmt7BxLZP"
   },
   "source": [
    "- Transfer learning and fine-tuning are indispensable techniques in the contemporary AI industry.\n",
    "\n",
    "- Both BART and T5 generate readable and fluent content with a good balance between extractive and abstractive summarization.\n",
    "\n",
    "- T5 is a good starting point for various tasks due to its versatile nature.\n",
    "\n",
    "- BART is easy to train with a stable training process while training T5 is harder due to its Text-to-Text design and larger parameter space.\n",
    "\n",
    "- A larger model is not necessarily to be the better one. Larger models need more training time and are harder to converge on smaller datasets.\n",
    "\n",
    "- Advanced fine-tuning techniques, like layer freezing and discriminative fine-tuning, can be useful but are not always beneficial."
   ]
  }
 ],
 "metadata": {
  "colab": {
   "provenance": []
  },
  "kernelspec": {
   "display_name": "Python 3",
   "name": "python3"
  },
  "language_info": {
   "name": "python"
  }
 },
 "nbformat": 4,
 "nbformat_minor": 0
}
