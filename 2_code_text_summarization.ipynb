{
 "cells": [
  {
   "cell_type": "markdown",
   "metadata": {
    "id": "zpxFsIxenLA6"
   },
   "source": [
    "<h1 align=\"center\">Text Summarization Using BART and T5 Models</h1>"
   ]
  },
  {
   "cell_type": "markdown",
   "metadata": {
    "id": "bIldMXf6nO5D"
   },
   "source": [
    "## Table of Contents"
   ]
  },
  {
   "cell_type": "markdown",
   "metadata": {
    "colab_type": "toc",
    "id": "W7cBlme-nSMq"
   },
   "source": [
    ">>[Set Up Environment](#scrollTo=7kRB5arLnOcg)\n",
    "\n",
    ">>[Import Libraries](#scrollTo=OkCLSmfFnShw)\n",
    "\n",
    ">>[Define Constants](#scrollTo=ARUdJzqKngl1)\n",
    "\n",
    ">>[Experiment Design](#scrollTo=j2lfZvgLmPpW)\n",
    "\n",
    ">>[Load CNN/Daily Mail Dataset](#scrollTo=_k0jITnCnW5d)\n",
    "\n",
    ">>[Select a Pre-trained Model](#scrollTo=AKhT9xphaDJC)\n",
    "\n",
    ">>[Load a Pre-trained Model](#scrollTo=03W21c-wnpcK)\n",
    "\n",
    ">>[Text Preprocessing](#scrollTo=ZIx9E7fJzDYf)\n",
    "\n",
    ">>[Pre-training Evaluation](#scrollTo=ChnNqDqQd-wW)\n",
    "\n",
    ">>[Model Fine-tuning](#scrollTo=wzQftdE1fYah)\n",
    "\n",
    ">>>>[10.1 Hyperparameter Settings](#scrollTo=MGiUPouMwSPe)\n",
    "\n",
    ">>>>[10.2 Advanced Fine-tuning Techniques](#scrollTo=YBHuCodTwiWr)\n",
    "\n",
    ">>>>[10.3 Findings During Training](#scrollTo=dH1yGVS9wvhW)\n",
    "\n",
    ">>>>[10.4 Regularization Methods](#scrollTo=oJih_-CXw5YB)\n",
    "\n",
    ">>[Performance Evaluation](#scrollTo=3-A7c69OoxZF)\n",
    "\n",
    ">>[Build Text Summarization Pipeline](#scrollTo=z75PRhhmgUgB)\n",
    "\n",
    ">>[Best Practices](#scrollTo=x94DJik0zvx9)\n",
    "\n"
   ]
  },
  {
   "cell_type": "markdown",
   "metadata": {
    "id": "7kRB5arLnOcg"
   },
   "source": [
    "## 1. Set Up Environment"
   ]
  },
  {
   "cell_type": "code",
   "execution_count": 1,
   "metadata": {
    "colab": {
     "base_uri": "https://localhost:8080/"
    },
    "executionInfo": {
     "elapsed": 17902,
     "status": "ok",
     "timestamp": 1721322208848,
     "user": {
      "displayName": "BOFENG FU",
      "userId": "12502377591132971488"
     },
     "user_tz": 150
    },
    "id": "xNgXzlFlm5y_",
    "outputId": "ebf720c1-3ba5-498b-87e4-6f68f895729f"
   },
   "outputs": [
    {
     "name": "stdout",
     "output_type": "stream",
     "text": [
      "Requirement already satisfied: torch in /usr/local/lib/python3.10/dist-packages (2.3.1+cu121)\n",
      "Requirement already satisfied: datasets in /usr/local/lib/python3.10/dist-packages (2.20.0)\n",
      "Requirement already satisfied: transformers in /usr/local/lib/python3.10/dist-packages (4.42.4)\n",
      "Requirement already satisfied: rouge-score in /usr/local/lib/python3.10/dist-packages (0.1.2)\n",
      "Requirement already satisfied: filelock in /usr/local/lib/python3.10/dist-packages (from torch) (3.15.4)\n",
      "Requirement already satisfied: typing-extensions>=4.8.0 in /usr/local/lib/python3.10/dist-packages (from torch) (4.12.2)\n",
      "Requirement already satisfied: sympy in /usr/local/lib/python3.10/dist-packages (from torch) (1.13.0)\n",
      "Requirement already satisfied: networkx in /usr/local/lib/python3.10/dist-packages (from torch) (3.3)\n",
      "Requirement already satisfied: jinja2 in /usr/local/lib/python3.10/dist-packages (from torch) (3.1.4)\n",
      "Requirement already satisfied: fsspec in /usr/local/lib/python3.10/dist-packages (from torch) (2023.6.0)\n",
      "Requirement already satisfied: nvidia-cuda-nvrtc-cu12==12.1.105 in /usr/local/lib/python3.10/dist-packages (from torch) (12.1.105)\n",
      "Requirement already satisfied: nvidia-cuda-runtime-cu12==12.1.105 in /usr/local/lib/python3.10/dist-packages (from torch) (12.1.105)\n",
      "Requirement already satisfied: nvidia-cuda-cupti-cu12==12.1.105 in /usr/local/lib/python3.10/dist-packages (from torch) (12.1.105)\n",
      "Requirement already satisfied: nvidia-cudnn-cu12==8.9.2.26 in /usr/local/lib/python3.10/dist-packages (from torch) (8.9.2.26)\n",
      "Requirement already satisfied: nvidia-cublas-cu12==12.1.3.1 in /usr/local/lib/python3.10/dist-packages (from torch) (12.1.3.1)\n",
      "Requirement already satisfied: nvidia-cufft-cu12==11.0.2.54 in /usr/local/lib/python3.10/dist-packages (from torch) (11.0.2.54)\n",
      "Requirement already satisfied: nvidia-curand-cu12==10.3.2.106 in /usr/local/lib/python3.10/dist-packages (from torch) (10.3.2.106)\n",
      "Requirement already satisfied: nvidia-cusolver-cu12==11.4.5.107 in /usr/local/lib/python3.10/dist-packages (from torch) (11.4.5.107)\n",
      "Requirement already satisfied: nvidia-cusparse-cu12==12.1.0.106 in /usr/local/lib/python3.10/dist-packages (from torch) (12.1.0.106)\n",
      "Requirement already satisfied: nvidia-nccl-cu12==2.20.5 in /usr/local/lib/python3.10/dist-packages (from torch) (2.20.5)\n",
      "Requirement already satisfied: nvidia-nvtx-cu12==12.1.105 in /usr/local/lib/python3.10/dist-packages (from torch) (12.1.105)\n",
      "Requirement already satisfied: triton==2.3.1 in /usr/local/lib/python3.10/dist-packages (from torch) (2.3.1)\n",
      "Requirement already satisfied: nvidia-nvjitlink-cu12 in /usr/local/lib/python3.10/dist-packages (from nvidia-cusolver-cu12==11.4.5.107->torch) (12.5.82)\n",
      "Requirement already satisfied: numpy>=1.17 in /usr/local/lib/python3.10/dist-packages (from datasets) (1.25.2)\n",
      "Requirement already satisfied: pyarrow>=15.0.0 in /usr/local/lib/python3.10/dist-packages (from datasets) (17.0.0)\n",
      "Requirement already satisfied: pyarrow-hotfix in /usr/local/lib/python3.10/dist-packages (from datasets) (0.6)\n",
      "Requirement already satisfied: dill<0.3.9,>=0.3.0 in /usr/local/lib/python3.10/dist-packages (from datasets) (0.3.8)\n",
      "Requirement already satisfied: pandas in /usr/local/lib/python3.10/dist-packages (from datasets) (2.0.3)\n",
      "Requirement already satisfied: requests>=2.32.2 in /usr/local/lib/python3.10/dist-packages (from datasets) (2.32.3)\n",
      "Requirement already satisfied: tqdm>=4.66.3 in /usr/local/lib/python3.10/dist-packages (from datasets) (4.66.4)\n",
      "Requirement already satisfied: xxhash in /usr/local/lib/python3.10/dist-packages (from datasets) (3.4.1)\n",
      "Requirement already satisfied: multiprocess in /usr/local/lib/python3.10/dist-packages (from datasets) (0.70.16)\n",
      "Requirement already satisfied: aiohttp in /usr/local/lib/python3.10/dist-packages (from datasets) (3.9.5)\n",
      "Requirement already satisfied: huggingface-hub>=0.21.2 in /usr/local/lib/python3.10/dist-packages (from datasets) (0.23.4)\n",
      "Requirement already satisfied: packaging in /usr/local/lib/python3.10/dist-packages (from datasets) (24.1)\n",
      "Requirement already satisfied: pyyaml>=5.1 in /usr/local/lib/python3.10/dist-packages (from datasets) (6.0.1)\n",
      "Requirement already satisfied: regex!=2019.12.17 in /usr/local/lib/python3.10/dist-packages (from transformers) (2024.5.15)\n",
      "Requirement already satisfied: safetensors>=0.4.1 in /usr/local/lib/python3.10/dist-packages (from transformers) (0.4.3)\n",
      "Requirement already satisfied: tokenizers<0.20,>=0.19 in /usr/local/lib/python3.10/dist-packages (from transformers) (0.19.1)\n",
      "Requirement already satisfied: absl-py in /usr/local/lib/python3.10/dist-packages (from rouge-score) (1.4.0)\n",
      "Requirement already satisfied: nltk in /usr/local/lib/python3.10/dist-packages (from rouge-score) (3.8.1)\n",
      "Requirement already satisfied: six>=1.14.0 in /usr/local/lib/python3.10/dist-packages (from rouge-score) (1.16.0)\n",
      "Requirement already satisfied: aiosignal>=1.1.2 in /usr/local/lib/python3.10/dist-packages (from aiohttp->datasets) (1.3.1)\n",
      "Requirement already satisfied: attrs>=17.3.0 in /usr/local/lib/python3.10/dist-packages (from aiohttp->datasets) (23.2.0)\n",
      "Requirement already satisfied: frozenlist>=1.1.1 in /usr/local/lib/python3.10/dist-packages (from aiohttp->datasets) (1.4.1)\n",
      "Requirement already satisfied: multidict<7.0,>=4.5 in /usr/local/lib/python3.10/dist-packages (from aiohttp->datasets) (6.0.5)\n",
      "Requirement already satisfied: yarl<2.0,>=1.0 in /usr/local/lib/python3.10/dist-packages (from aiohttp->datasets) (1.9.4)\n",
      "Requirement already satisfied: async-timeout<5.0,>=4.0 in /usr/local/lib/python3.10/dist-packages (from aiohttp->datasets) (4.0.3)\n",
      "Requirement already satisfied: charset-normalizer<4,>=2 in /usr/local/lib/python3.10/dist-packages (from requests>=2.32.2->datasets) (3.3.2)\n",
      "Requirement already satisfied: idna<4,>=2.5 in /usr/local/lib/python3.10/dist-packages (from requests>=2.32.2->datasets) (3.7)\n",
      "Requirement already satisfied: urllib3<3,>=1.21.1 in /usr/local/lib/python3.10/dist-packages (from requests>=2.32.2->datasets) (2.0.7)\n",
      "Requirement already satisfied: certifi>=2017.4.17 in /usr/local/lib/python3.10/dist-packages (from requests>=2.32.2->datasets) (2024.7.4)\n",
      "Requirement already satisfied: MarkupSafe>=2.0 in /usr/local/lib/python3.10/dist-packages (from jinja2->torch) (2.1.5)\n",
      "Requirement already satisfied: click in /usr/local/lib/python3.10/dist-packages (from nltk->rouge-score) (8.1.7)\n",
      "Requirement already satisfied: joblib in /usr/local/lib/python3.10/dist-packages (from nltk->rouge-score) (1.4.2)\n",
      "Requirement already satisfied: python-dateutil>=2.8.2 in /usr/local/lib/python3.10/dist-packages (from pandas->datasets) (2.8.2)\n",
      "Requirement already satisfied: pytz>=2020.1 in /usr/local/lib/python3.10/dist-packages (from pandas->datasets) (2023.4)\n",
      "Requirement already satisfied: tzdata>=2022.1 in /usr/local/lib/python3.10/dist-packages (from pandas->datasets) (2024.1)\n",
      "Requirement already satisfied: mpmath<1.4,>=1.1.0 in /usr/local/lib/python3.10/dist-packages (from sympy->torch) (1.3.0)\n"
     ]
    }
   ],
   "source": [
    "!pip install torch datasets transformers rouge-score"
   ]
  },
  {
   "cell_type": "code",
   "execution_count": 2,
   "metadata": {
    "colab": {
     "base_uri": "https://localhost:8080/"
    },
    "executionInfo": {
     "elapsed": 20647,
     "status": "ok",
     "timestamp": 1721322229493,
     "user": {
      "displayName": "BOFENG FU",
      "userId": "12502377591132971488"
     },
     "user_tz": 150
    },
    "id": "_e2siH33zmyq",
    "outputId": "f6b19925-fe22-43bb-fbc0-fa903ae26a94"
   },
   "outputs": [
    {
     "name": "stdout",
     "output_type": "stream",
     "text": [
      "Requirement already satisfied: accelerate in /usr/local/lib/python3.10/dist-packages (0.32.1)\n",
      "Requirement already satisfied: numpy<2.0.0,>=1.17 in /usr/local/lib/python3.10/dist-packages (from accelerate) (1.25.2)\n",
      "Requirement already satisfied: packaging>=20.0 in /usr/local/lib/python3.10/dist-packages (from accelerate) (24.1)\n",
      "Requirement already satisfied: psutil in /usr/local/lib/python3.10/dist-packages (from accelerate) (5.9.5)\n",
      "Requirement already satisfied: pyyaml in /usr/local/lib/python3.10/dist-packages (from accelerate) (6.0.1)\n",
      "Requirement already satisfied: torch>=1.10.0 in /usr/local/lib/python3.10/dist-packages (from accelerate) (2.3.1+cu121)\n",
      "Requirement already satisfied: huggingface-hub in /usr/local/lib/python3.10/dist-packages (from accelerate) (0.23.4)\n",
      "Requirement already satisfied: safetensors>=0.3.1 in /usr/local/lib/python3.10/dist-packages (from accelerate) (0.4.3)\n",
      "Requirement already satisfied: filelock in /usr/local/lib/python3.10/dist-packages (from torch>=1.10.0->accelerate) (3.15.4)\n",
      "Requirement already satisfied: typing-extensions>=4.8.0 in /usr/local/lib/python3.10/dist-packages (from torch>=1.10.0->accelerate) (4.12.2)\n",
      "Requirement already satisfied: sympy in /usr/local/lib/python3.10/dist-packages (from torch>=1.10.0->accelerate) (1.13.0)\n",
      "Requirement already satisfied: networkx in /usr/local/lib/python3.10/dist-packages (from torch>=1.10.0->accelerate) (3.3)\n",
      "Requirement already satisfied: jinja2 in /usr/local/lib/python3.10/dist-packages (from torch>=1.10.0->accelerate) (3.1.4)\n",
      "Requirement already satisfied: fsspec in /usr/local/lib/python3.10/dist-packages (from torch>=1.10.0->accelerate) (2023.6.0)\n",
      "Requirement already satisfied: nvidia-cuda-nvrtc-cu12==12.1.105 in /usr/local/lib/python3.10/dist-packages (from torch>=1.10.0->accelerate) (12.1.105)\n",
      "Requirement already satisfied: nvidia-cuda-runtime-cu12==12.1.105 in /usr/local/lib/python3.10/dist-packages (from torch>=1.10.0->accelerate) (12.1.105)\n",
      "Requirement already satisfied: nvidia-cuda-cupti-cu12==12.1.105 in /usr/local/lib/python3.10/dist-packages (from torch>=1.10.0->accelerate) (12.1.105)\n",
      "Requirement already satisfied: nvidia-cudnn-cu12==8.9.2.26 in /usr/local/lib/python3.10/dist-packages (from torch>=1.10.0->accelerate) (8.9.2.26)\n",
      "Requirement already satisfied: nvidia-cublas-cu12==12.1.3.1 in /usr/local/lib/python3.10/dist-packages (from torch>=1.10.0->accelerate) (12.1.3.1)\n",
      "Requirement already satisfied: nvidia-cufft-cu12==11.0.2.54 in /usr/local/lib/python3.10/dist-packages (from torch>=1.10.0->accelerate) (11.0.2.54)\n",
      "Requirement already satisfied: nvidia-curand-cu12==10.3.2.106 in /usr/local/lib/python3.10/dist-packages (from torch>=1.10.0->accelerate) (10.3.2.106)\n",
      "Requirement already satisfied: nvidia-cusolver-cu12==11.4.5.107 in /usr/local/lib/python3.10/dist-packages (from torch>=1.10.0->accelerate) (11.4.5.107)\n",
      "Requirement already satisfied: nvidia-cusparse-cu12==12.1.0.106 in /usr/local/lib/python3.10/dist-packages (from torch>=1.10.0->accelerate) (12.1.0.106)\n",
      "Requirement already satisfied: nvidia-nccl-cu12==2.20.5 in /usr/local/lib/python3.10/dist-packages (from torch>=1.10.0->accelerate) (2.20.5)\n",
      "Requirement already satisfied: nvidia-nvtx-cu12==12.1.105 in /usr/local/lib/python3.10/dist-packages (from torch>=1.10.0->accelerate) (12.1.105)\n",
      "Requirement already satisfied: triton==2.3.1 in /usr/local/lib/python3.10/dist-packages (from torch>=1.10.0->accelerate) (2.3.1)\n",
      "Requirement already satisfied: nvidia-nvjitlink-cu12 in /usr/local/lib/python3.10/dist-packages (from nvidia-cusolver-cu12==11.4.5.107->torch>=1.10.0->accelerate) (12.5.82)\n",
      "Requirement already satisfied: requests in /usr/local/lib/python3.10/dist-packages (from huggingface-hub->accelerate) (2.32.3)\n",
      "Requirement already satisfied: tqdm>=4.42.1 in /usr/local/lib/python3.10/dist-packages (from huggingface-hub->accelerate) (4.66.4)\n",
      "Requirement already satisfied: MarkupSafe>=2.0 in /usr/local/lib/python3.10/dist-packages (from jinja2->torch>=1.10.0->accelerate) (2.1.5)\n",
      "Requirement already satisfied: charset-normalizer<4,>=2 in /usr/local/lib/python3.10/dist-packages (from requests->huggingface-hub->accelerate) (3.3.2)\n",
      "Requirement already satisfied: idna<4,>=2.5 in /usr/local/lib/python3.10/dist-packages (from requests->huggingface-hub->accelerate) (3.7)\n",
      "Requirement already satisfied: urllib3<3,>=1.21.1 in /usr/local/lib/python3.10/dist-packages (from requests->huggingface-hub->accelerate) (2.0.7)\n",
      "Requirement already satisfied: certifi>=2017.4.17 in /usr/local/lib/python3.10/dist-packages (from requests->huggingface-hub->accelerate) (2024.7.4)\n",
      "Requirement already satisfied: mpmath<1.4,>=1.1.0 in /usr/local/lib/python3.10/dist-packages (from sympy->torch>=1.10.0->accelerate) (1.3.0)\n",
      "Requirement already satisfied: transformers in /usr/local/lib/python3.10/dist-packages (4.42.4)\n",
      "Requirement already satisfied: filelock in /usr/local/lib/python3.10/dist-packages (from transformers) (3.15.4)\n",
      "Requirement already satisfied: huggingface-hub<1.0,>=0.23.2 in /usr/local/lib/python3.10/dist-packages (from transformers) (0.23.4)\n",
      "Requirement already satisfied: numpy<2.0,>=1.17 in /usr/local/lib/python3.10/dist-packages (from transformers) (1.25.2)\n",
      "Requirement already satisfied: packaging>=20.0 in /usr/local/lib/python3.10/dist-packages (from transformers) (24.1)\n",
      "Requirement already satisfied: pyyaml>=5.1 in /usr/local/lib/python3.10/dist-packages (from transformers) (6.0.1)\n",
      "Requirement already satisfied: regex!=2019.12.17 in /usr/local/lib/python3.10/dist-packages (from transformers) (2024.5.15)\n",
      "Requirement already satisfied: requests in /usr/local/lib/python3.10/dist-packages (from transformers) (2.32.3)\n",
      "Requirement already satisfied: safetensors>=0.4.1 in /usr/local/lib/python3.10/dist-packages (from transformers) (0.4.3)\n",
      "Requirement already satisfied: tokenizers<0.20,>=0.19 in /usr/local/lib/python3.10/dist-packages (from transformers) (0.19.1)\n",
      "Requirement already satisfied: tqdm>=4.27 in /usr/local/lib/python3.10/dist-packages (from transformers) (4.66.4)\n",
      "Requirement already satisfied: fsspec>=2023.5.0 in /usr/local/lib/python3.10/dist-packages (from huggingface-hub<1.0,>=0.23.2->transformers) (2023.6.0)\n",
      "Requirement already satisfied: typing-extensions>=3.7.4.3 in /usr/local/lib/python3.10/dist-packages (from huggingface-hub<1.0,>=0.23.2->transformers) (4.12.2)\n",
      "Requirement already satisfied: charset-normalizer<4,>=2 in /usr/local/lib/python3.10/dist-packages (from requests->transformers) (3.3.2)\n",
      "Requirement already satisfied: idna<4,>=2.5 in /usr/local/lib/python3.10/dist-packages (from requests->transformers) (3.7)\n",
      "Requirement already satisfied: urllib3<3,>=1.21.1 in /usr/local/lib/python3.10/dist-packages (from requests->transformers) (2.0.7)\n",
      "Requirement already satisfied: certifi>=2017.4.17 in /usr/local/lib/python3.10/dist-packages (from requests->transformers) (2024.7.4)\n"
     ]
    }
   ],
   "source": [
    "! pip install -U accelerate\n",
    "! pip install -U transformers"
   ]
  },
  {
   "cell_type": "markdown",
   "metadata": {
    "id": "OkCLSmfFnShw"
   },
   "source": [
    "## 2. Import Libraries"
   ]
  },
  {
   "cell_type": "code",
   "execution_count": 3,
   "metadata": {
    "colab": {
     "base_uri": "https://localhost:8080/"
    },
    "executionInfo": {
     "elapsed": 1501,
     "status": "ok",
     "timestamp": 1721322230976,
     "user": {
      "displayName": "BOFENG FU",
      "userId": "12502377591132971488"
     },
     "user_tz": 150
    },
    "id": "Yo4sGQUEnceG",
    "outputId": "fe0f1758-b622-4888-bcc4-2d736311a7da"
   },
   "outputs": [
    {
     "name": "stdout",
     "output_type": "stream",
     "text": [
      "Drive already mounted at /content/drive; to attempt to forcibly remount, call drive.mount(\"/content/drive\", force_remount=True).\n"
     ]
    }
   ],
   "source": [
    "from google.colab import drive\n",
    "drive.mount('/content/drive')\n",
    "\n",
    "import fileinput\n",
    "import sys\n",
    "import os"
   ]
  },
  {
   "cell_type": "code",
   "execution_count": 4,
   "metadata": {
    "executionInfo": {
     "elapsed": 23599,
     "status": "ok",
     "timestamp": 1721322254573,
     "user": {
      "displayName": "BOFENG FU",
      "userId": "12502377591132971488"
     },
     "user_tz": 150
    },
    "id": "xOHuUalTnUHE"
   },
   "outputs": [],
   "source": [
    "import torch\n",
    "import datasets\n",
    "from datasets import load_dataset, load_metric, Dataset\n",
    "from datasets import load_from_disk\n",
    "from transformers import BartTokenizer, BartForConditionalGeneration, T5Tokenizer, T5ForConditionalGeneration\n",
    "from transformers import Trainer, TrainingArguments, Seq2SeqTrainer, Seq2SeqTrainingArguments\n",
    "from transformers import pipeline"
   ]
  },
  {
   "cell_type": "code",
   "execution_count": 5,
   "metadata": {
    "colab": {
     "base_uri": "https://localhost:8080/"
    },
    "executionInfo": {
     "elapsed": 686,
     "status": "ok",
     "timestamp": 1721322255256,
     "user": {
      "displayName": "BOFENG FU",
      "userId": "12502377591132971488"
     },
     "user_tz": 150
    },
    "id": "tHn8QaW1ngNb",
    "outputId": "862beb99-2633-463a-cca5-c91bad8d9e2e"
   },
   "outputs": [
    {
     "name": "stderr",
     "output_type": "stream",
     "text": [
      "[nltk_data] Downloading package punkt to /root/nltk_data...\n",
      "[nltk_data]   Package punkt is already up-to-date!\n"
     ]
    },
    {
     "data": {
      "text/plain": [
       "True"
      ]
     },
     "execution_count": 5,
     "metadata": {},
     "output_type": "execute_result"
    }
   ],
   "source": [
    "import numpy as np\n",
    "import pandas as pd\n",
    "import matplotlib.pyplot as plt\n",
    "import seaborn as sns\n",
    "\n",
    "import re\n",
    "from collections import Counter\n",
    "from wordcloud import WordCloud\n",
    "import nltk\n",
    "nltk.download(\"punkt\")"
   ]
  },
  {
   "cell_type": "code",
   "execution_count": 6,
   "metadata": {
    "executionInfo": {
     "elapsed": 6,
     "status": "ok",
     "timestamp": 1721322255256,
     "user": {
      "displayName": "BOFENG FU",
      "userId": "12502377591132971488"
     },
     "user_tz": 150
    },
    "id": "Eria_eGvnhny"
   },
   "outputs": [],
   "source": [
    "import warnings\n",
    "warnings.filterwarnings('ignore')\n",
    "from IPython.display import display"
   ]
  },
  {
   "cell_type": "markdown",
   "metadata": {
    "id": "ARUdJzqKngl1"
   },
   "source": [
    "## 3. Define Constants"
   ]
  },
  {
   "cell_type": "code",
   "execution_count": 7,
   "metadata": {
    "colab": {
     "base_uri": "https://localhost:8080/"
    },
    "executionInfo": {
     "elapsed": 6,
     "status": "ok",
     "timestamp": 1721322255256,
     "user": {
      "displayName": "BOFENG FU",
      "userId": "12502377591132971488"
     },
     "user_tz": 150
    },
    "id": "Jxiy3XPrnfy7",
    "outputId": "da9ccde5-4982-4651-8411-4d79d3e4be3d"
   },
   "outputs": [
    {
     "data": {
      "text/plain": [
       "device(type='cuda')"
      ]
     },
     "execution_count": 7,
     "metadata": {},
     "output_type": "execute_result"
    }
   ],
   "source": [
    "device = torch.device(\"cuda\" if torch.cuda.is_available() else \"cpu\")\n",
    "device"
   ]
  },
  {
   "cell_type": "code",
   "execution_count": null,
   "metadata": {
    "executionInfo": {
     "elapsed": 4,
     "status": "ok",
     "timestamp": 1721322255256,
     "user": {
      "displayName": "BOFENG FU",
      "userId": "12502377591132971488"
     },
     "user_tz": 150
    },
    "id": "tti5zqxknmnV"
   },
   "outputs": [],
   "source": [
    "data_dir = \"./\""
   ]
  },
  {
   "cell_type": "code",
   "execution_count": 9,
   "metadata": {
    "executionInfo": {
     "elapsed": 5,
     "status": "ok",
     "timestamp": 1721322255257,
     "user": {
      "displayName": "BOFENG FU",
      "userId": "12502377591132971488"
     },
     "user_tz": 150
    },
    "id": "ny1KIAF58auL"
   },
   "outputs": [],
   "source": [
    "USE_ADVANCES_TECH = False"
   ]
  },
  {
   "cell_type": "code",
   "execution_count": 10,
   "metadata": {
    "executionInfo": {
     "elapsed": 4,
     "status": "ok",
     "timestamp": 1721322255257,
     "user": {
      "displayName": "BOFENG FU",
      "userId": "12502377591132971488"
     },
     "user_tz": 150
    },
    "id": "3xVrXjC8_O-F"
   },
   "outputs": [],
   "source": [
    "HYPERS = {\n",
    "    \"BART-BASE\": {\n",
    "        \"PREPROCESSING_ARTICLE_MAX_LENGTH\": 1024,\n",
    "        \"PREPROCESSING_HIGHLIGHT_MAX_LENGTH\": 150,\n",
    "        \"SUMMARY_ARTICLE_MAX_LENGTH\": 1024,\n",
    "        \"SUMMARY_HIGHLIGHT_MAX_LENGTH\": 150,\n",
    "        \"SUMMARY_HIGHLIGHT_BEAM\": 4,\n",
    "        \"SUMMARY_HIGHLIGHT_NUM_RETURN_SEQUENCES\": 1,\n",
    "        \"SUMMARY_MAP_BATCH_SIZE\": 8,\n",
    "        \"TRAIN_PER_DEVICE_TRAIN_BATCH_SIZE\": 4,\n",
    "        \"TRAIN_PER_DEVICE_EVAL_BATCH_SIZE\": 4,\n",
    "        \"TRAIN_GENERATION_MAX_LENGTH\": 150,\n",
    "        \"TRAIN_GENERATION_NUM_BEAMS\": 2,\n",
    "        \"PIPELINE_MAX_LENGTH\": 150,\n",
    "        \"PIPELINE_MIN_LENGTH\": 50,\n",
    "    },\n",
    "\n",
    "    \"BART-LARGE\": {\n",
    "        \"PREPROCESSING_ARTICLE_MAX_LENGTH\": 1024,\n",
    "        \"PREPROCESSING_HIGHLIGHT_MAX_LENGTH\": 150,\n",
    "        \"SUMMARY_ARTICLE_MAX_LENGTH\": 1024,\n",
    "        \"SUMMARY_HIGHLIGHT_MAX_LENGTH\": 150,\n",
    "        \"SUMMARY_HIGHLIGHT_BEAM\": 4,\n",
    "        \"SUMMARY_HIGHLIGHT_NUM_RETURN_SEQUENCES\": 1,\n",
    "        \"SUMMARY_MAP_BATCH_SIZE\": 8,\n",
    "        \"TRAIN_PER_DEVICE_TRAIN_BATCH_SIZE\": 4,\n",
    "        \"TRAIN_PER_DEVICE_EVAL_BATCH_SIZE\": 4,\n",
    "        \"TRAIN_GENERATION_MAX_LENGTH\": 150,\n",
    "        \"TRAIN_GENERATION_NUM_BEAMS\": 2,\n",
    "        \"PIPELINE_MAX_LENGTH\": 150,\n",
    "        \"PIPELINE_MIN_LENGTH\": 50,\n",
    "    },\n",
    "\n",
    "    \"BART-LARGE-CNN\": {\n",
    "        \"PREPROCESSING_ARTICLE_MAX_LENGTH\": 1024,\n",
    "        \"PREPROCESSING_HIGHLIGHT_MAX_LENGTH\": 150,\n",
    "        \"SUMMARY_ARTICLE_MAX_LENGTH\": 1024,\n",
    "        \"SUMMARY_HIGHLIGHT_MAX_LENGTH\": 150,\n",
    "        \"SUMMARY_HIGHLIGHT_BEAM\": 4,\n",
    "        \"SUMMARY_HIGHLIGHT_NUM_RETURN_SEQUENCES\": 1,\n",
    "        \"SUMMARY_MAP_BATCH_SIZE\": 8,\n",
    "        \"TRAIN_PER_DEVICE_TRAIN_BATCH_SIZE\": 4,\n",
    "        \"TRAIN_PER_DEVICE_EVAL_BATCH_SIZE\": 4,\n",
    "        \"TRAIN_GENERATION_MAX_LENGTH\": 150,\n",
    "        \"TRAIN_GENERATION_NUM_BEAMS\": 2,\n",
    "        \"PIPELINE_MAX_LENGTH\": 150,\n",
    "        \"PIPELINE_MIN_LENGTH\": 50,\n",
    "    },\n",
    "\n",
    "    \"T5-SMALL\": {\n",
    "        \"PREPROCESSING_ARTICLE_MAX_LENGTH\": 1024,\n",
    "        \"PREPROCESSING_HIGHLIGHT_MAX_LENGTH\": 150,\n",
    "        \"SUMMARY_ARTICLE_MAX_LENGTH\": 1024,\n",
    "        \"SUMMARY_HIGHLIGHT_MAX_LENGTH\": 150,\n",
    "        \"SUMMARY_HIGHLIGHT_BEAM\": 4,\n",
    "        \"SUMMARY_HIGHLIGHT_NUM_RETURN_SEQUENCES\": 1,\n",
    "        \"SUMMARY_MAP_BATCH_SIZE\": 8,\n",
    "        \"TRAIN_PER_DEVICE_TRAIN_BATCH_SIZE\": 4,\n",
    "        \"TRAIN_PER_DEVICE_EVAL_BATCH_SIZE\": 4,\n",
    "        \"TRAIN_GENERATION_MAX_LENGTH\": 150,\n",
    "        \"TRAIN_GENERATION_NUM_BEAMS\": 2,\n",
    "        \"PIPELINE_MAX_LENGTH\": 150,\n",
    "        \"PIPELINE_MIN_LENGTH\": 50,\n",
    "    },\n",
    "\n",
    "    \"T5-BASE\": {\n",
    "        \"PREPROCESSING_ARTICLE_MAX_LENGTH\": 1024,\n",
    "        \"PREPROCESSING_HIGHLIGHT_MAX_LENGTH\": 150,\n",
    "        \"SUMMARY_ARTICLE_MAX_LENGTH\": 1024,\n",
    "        \"SUMMARY_HIGHLIGHT_MAX_LENGTH\": 150,\n",
    "        \"SUMMARY_HIGHLIGHT_BEAM\": 4,\n",
    "        \"SUMMARY_HIGHLIGHT_NUM_RETURN_SEQUENCES\": 1,\n",
    "        \"SUMMARY_MAP_BATCH_SIZE\": 8,\n",
    "        \"TRAIN_PER_DEVICE_TRAIN_BATCH_SIZE\": 4,\n",
    "        \"TRAIN_PER_DEVICE_EVAL_BATCH_SIZE\": 4,\n",
    "        \"TRAIN_GENERATION_MAX_LENGTH\": 150,\n",
    "        \"TRAIN_GENERATION_NUM_BEAMS\": 2,\n",
    "        \"PIPELINE_MAX_LENGTH\": 150,\n",
    "        \"PIPELINE_MIN_LENGTH\": 50,\n",
    "    },\n",
    "\n",
    "    \"T5-LARGE\": {\n",
    "        \"PREPROCESSING_ARTICLE_MAX_LENGTH\": 512,\n",
    "        \"PREPROCESSING_HIGHLIGHT_MAX_LENGTH\": 50,\n",
    "        \"SUMMARY_ARTICLE_MAX_LENGTH\": 512,\n",
    "        \"SUMMARY_HIGHLIGHT_MAX_LENGTH\": 50,\n",
    "        \"SUMMARY_HIGHLIGHT_BEAM\": 2,\n",
    "        \"SUMMARY_HIGHLIGHT_NUM_RETURN_SEQUENCES\": 1,\n",
    "        \"SUMMARY_MAP_BATCH_SIZE\": 2,\n",
    "        \"TRAIN_PER_DEVICE_TRAIN_BATCH_SIZE\": 2,\n",
    "        \"TRAIN_PER_DEVICE_EVAL_BATCH_SIZE\": 2,\n",
    "        \"TRAIN_GENERATION_MAX_LENGTH\": 50,\n",
    "        \"TRAIN_GENERATION_NUM_BEAMS\": 2,\n",
    "        \"PIPELINE_MAX_LENGTH\": 50,\n",
    "        \"PIPELINE_MIN_LENGTH\": 40,\n",
    "    },\n",
    "\n",
    "    \"BART-LARGE-CNN-FREEZE\": {\n",
    "        \"PREPROCESSING_ARTICLE_MAX_LENGTH\": 1024,\n",
    "        \"PREPROCESSING_HIGHLIGHT_MAX_LENGTH\": 150,\n",
    "        \"SUMMARY_ARTICLE_MAX_LENGTH\": 1024,\n",
    "        \"SUMMARY_HIGHLIGHT_MAX_LENGTH\": 150,\n",
    "        \"SUMMARY_HIGHLIGHT_BEAM\": 4,\n",
    "        \"SUMMARY_HIGHLIGHT_NUM_RETURN_SEQUENCES\": 1,\n",
    "        \"SUMMARY_MAP_BATCH_SIZE\": 8,\n",
    "        \"TRAIN_PER_DEVICE_TRAIN_BATCH_SIZE\": 4,\n",
    "        \"TRAIN_PER_DEVICE_EVAL_BATCH_SIZE\": 4,\n",
    "        \"TRAIN_GENERATION_MAX_LENGTH\": 150,\n",
    "        \"TRAIN_GENERATION_NUM_BEAMS\": 2,\n",
    "        \"PIPELINE_MAX_LENGTH\": 150,\n",
    "        \"PIPELINE_MIN_LENGTH\": 50,\n",
    "    },\n",
    "\n",
    "    \"BART-LARGE-CNN-DISCRIM\": {\n",
    "        \"PREPROCESSING_ARTICLE_MAX_LENGTH\": 1024,\n",
    "        \"PREPROCESSING_HIGHLIGHT_MAX_LENGTH\": 150,\n",
    "        \"SUMMARY_ARTICLE_MAX_LENGTH\": 1024,\n",
    "        \"SUMMARY_HIGHLIGHT_MAX_LENGTH\": 150,\n",
    "        \"SUMMARY_HIGHLIGHT_BEAM\": 4,\n",
    "        \"SUMMARY_HIGHLIGHT_NUM_RETURN_SEQUENCES\": 1,\n",
    "        \"SUMMARY_MAP_BATCH_SIZE\": 8,\n",
    "        \"TRAIN_PER_DEVICE_TRAIN_BATCH_SIZE\": 4,\n",
    "        \"TRAIN_PER_DEVICE_EVAL_BATCH_SIZE\": 4,\n",
    "        \"TRAIN_GENERATION_MAX_LENGTH\": 150,\n",
    "        \"TRAIN_GENERATION_NUM_BEAMS\": 2,\n",
    "        \"PIPELINE_MAX_LENGTH\": 150,\n",
    "        \"PIPELINE_MIN_LENGTH\": 50,\n",
    "    },\n",
    "}"
   ]
  },
  {
   "cell_type": "markdown",
   "metadata": {
    "id": "j2lfZvgLmPpW"
   },
   "source": [
    "## 4. Experiment Design"
   ]
  },
  {
   "cell_type": "markdown",
   "metadata": {
    "id": "mv2rnPzzuH4Y"
   },
   "source": [
    "Our experiments contain 6 main stages.\n",
    "\n",
    "(1) Data Preparation\n",
    "\n",
    "(2) Data Preprocessing\n",
    "\n",
    "(3) Pre-training Evaluation: Evaluate the pre-trained models before fine-tuning them on the dataset to set baselines for further experiments.\n",
    "\n",
    "(4) Model Fine-tune: Fine-tune the models on the CNN/Daily Mail dataset. I use the validation set for hyperparameter tuning.\n",
    "\n",
    "(5) Performance Evaluation: Evaluate the performance of different models and compare their performance with themselves before fine-tuning.\n",
    "\n",
    "(6) Inference: If we are not satisfied with the results, we train the models again with a different set of training parameters. Otherwise, we take the trained model and build a text summarization pipeline. I test the summarization ability of this pipeline by randomly finding a piece of the latest news on the internet and feeding it into the pipeline.\n",
    "\n",
    "(7) Finally, I conduct the qualitative evaluation of the summary generated by the pipeline."
   ]
  },
  {
   "cell_type": "markdown",
   "metadata": {
    "id": "7MMQhmAXpdKC"
   },
   "source": [
    "<img src=\"data:image/png;base64,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\" alt=\"Google Logo\" width=\"500\" height=\"600\">\n"
   ]
  },
  {
   "cell_type": "markdown",
   "metadata": {
    "id": "_k0jITnCnW5d"
   },
   "source": [
    "## 5. Load CNN/Daily Mail Dataset"
   ]
  },
  {
   "cell_type": "code",
   "execution_count": 11,
   "metadata": {
    "executionInfo": {
     "elapsed": 7840,
     "status": "ok",
     "timestamp": 1721322263093,
     "user": {
      "displayName": "BOFENG FU",
      "userId": "12502377591132971488"
     },
     "user_tz": 150
    },
    "id": "beR2ndnonWR9"
   },
   "outputs": [],
   "source": [
    "dataset = load_dataset(\"cnn_dailymail\", \"3.0.0\", split=\"train[0:300]\")"
   ]
  },
  {
   "cell_type": "code",
   "execution_count": 12,
   "metadata": {
    "colab": {
     "base_uri": "https://localhost:8080/"
    },
    "executionInfo": {
     "elapsed": 8,
     "status": "ok",
     "timestamp": 1721322263094,
     "user": {
      "displayName": "BOFENG FU",
      "userId": "12502377591132971488"
     },
     "user_tz": 150
    },
    "id": "nvE21LnBnbrE",
    "outputId": "3b32dbef-af40-47ca-cbcd-ad2098aada30"
   },
   "outputs": [
    {
     "data": {
      "text/plain": [
       "DatasetDict({\n",
       "    train: Dataset({\n",
       "        features: ['article', 'highlights', 'id'],\n",
       "        num_rows: 270\n",
       "    })\n",
       "    validation: Dataset({\n",
       "        features: ['article', 'highlights', 'id'],\n",
       "        num_rows: 15\n",
       "    })\n",
       "    test: Dataset({\n",
       "        features: ['article', 'highlights', 'id'],\n",
       "        num_rows: 15\n",
       "    })\n",
       "})"
      ]
     },
     "execution_count": 12,
     "metadata": {},
     "output_type": "execute_result"
    }
   ],
   "source": [
    "# Split the dataset into training set, validation set, and test set\n",
    "train_dataset, test_dataset= dataset.train_test_split(test_size=0.05).values()\n",
    "train_dataset, validation_dataset= train_dataset.train_test_split(test_size=0.05).values()\n",
    "\n",
    "dataset = datasets.DatasetDict({\"train\":train_dataset, \"validation\": validation_dataset,\"test\":test_dataset})\n",
    "dataset"
   ]
  },
  {
   "cell_type": "markdown",
   "metadata": {
    "id": "AKhT9xphaDJC"
   },
   "source": [
    "## 6. Select a Pre-trained Model"
   ]
  },
  {
   "cell_type": "code",
   "execution_count": null,
   "metadata": {
    "executionInfo": {
     "elapsed": 6,
     "status": "ok",
     "timestamp": 1721322263094,
     "user": {
      "displayName": "BOFENG FU",
      "userId": "12502377591132971488"
     },
     "user_tz": 150
    },
    "id": "kKg-aDfhaCz4"
   },
   "outputs": [],
   "source": [
    "MODEL_SELECTED = \"BART-LARGE-CNN\"\n",
    "\n",
    "model_save_path = \"./\" + str(MODEL_SELECTED)"
   ]
  },
  {
   "cell_type": "markdown",
   "metadata": {
    "id": "03W21c-wnpcK"
   },
   "source": [
    "## 7. Load a Pre-trained Model"
   ]
  },
  {
   "cell_type": "code",
   "execution_count": 14,
   "metadata": {
    "executionInfo": {
     "elapsed": 13193,
     "status": "ok",
     "timestamp": 1721322276281,
     "user": {
      "displayName": "BOFENG FU",
      "userId": "12502377591132971488"
     },
     "user_tz": 150
    },
    "id": "g_hQowZHnrlz"
   },
   "outputs": [],
   "source": [
    "if MODEL_SELECTED == \"BART-BASE\":\n",
    "    # Initialize a tokenizer\n",
    "    pretrained_tokenizer = BartTokenizer.from_pretrained(\"facebook/bart-base\")\n",
    "    # Initialize a model\n",
    "    pretrained_model = BartForConditionalGeneration.from_pretrained(\"facebook/bart-base\").to(device)\n",
    "elif MODEL_SELECTED == \"BART-LARGE\":\n",
    "    # Initialize a tokenizer\n",
    "    pretrained_tokenizer = BartTokenizer.from_pretrained(\"facebook/bart-large\")\n",
    "    # Initialize a model\n",
    "    pretrained_model = BartForConditionalGeneration.from_pretrained(\"facebook/bart-large\").to(device)\n",
    "elif MODEL_SELECTED == \"BART-LARGE-CNN\":\n",
    "    # Initialize a tokenizer\n",
    "    pretrained_tokenizer = BartTokenizer.from_pretrained(\"facebook/bart-large-cnn\")\n",
    "    # Initialize a model\n",
    "    pretrained_model = BartForConditionalGeneration.from_pretrained(\"facebook/bart-large-cnn\").to(device)\n",
    "elif MODEL_SELECTED == \"T5-SMALL\":\n",
    "    # Initialize a tokenizer\n",
    "    pretrained_tokenizer = T5Tokenizer.from_pretrained(\"t5-small\")\n",
    "    # Initialize a model\n",
    "    pretrained_model = T5ForConditionalGeneration.from_pretrained(\"t5-small\").to(device)\n",
    "elif MODEL_SELECTED == \"T5-BASE\":\n",
    "    # Initialize a tokenizer\n",
    "    pretrained_tokenizer = T5Tokenizer.from_pretrained(\"t5-base\")\n",
    "    # Initialize a model\n",
    "    pretrained_model = T5ForConditionalGeneration.from_pretrained(\"t5-base\").to(device)\n",
    "elif MODEL_SELECTED == \"T5-LARGE\":\n",
    "    # Initialize a tokenizer\n",
    "    pretrained_tokenizer = T5Tokenizer.from_pretrained(\"t5-large\")\n",
    "    # Initialize a model\n",
    "    pretrained_model = T5ForConditionalGeneration.from_pretrained(\"t5-large\").to(device)\n",
    "elif MODEL_SELECTED == \"BART-LARGE-CNN-FREEZE\":\n",
    "    # Initialize a tokenizer\n",
    "    pretrained_tokenizer = BartTokenizer.from_pretrained(\"facebook/bart-large-cnn\")\n",
    "    # Initialize a model\n",
    "    pretrained_model = BartForConditionalGeneration.from_pretrained(\"facebook/bart-large-cnn\").to(device)\n",
    "elif MODEL_SELECTED == \"BART-LARGE-CNN-DISCRIM\":\n",
    "    # Initialize a tokenizer\n",
    "    pretrained_tokenizer = BartTokenizer.from_pretrained(\"facebook/bart-large-cnn\")\n",
    "    # Initialize a model\n",
    "    pretrained_model = BartForConditionalGeneration.from_pretrained(\"facebook/bart-large-cnn\").to(device)\n",
    "else:\n",
    "    raise ValueError(\"Please input correct model name\")"
   ]
  },
  {
   "cell_type": "markdown",
   "metadata": {
    "id": "ZIx9E7fJzDYf"
   },
   "source": [
    "## 8. Text Preprocessing"
   ]
  },
  {
   "cell_type": "markdown",
   "metadata": {
    "id": "tapCBh-qrKfd"
   },
   "source": [
    "(1) Tokenization: Divide the input text into small tokens.\n",
    "\n",
    "(2) Adding Special Tokens: Help the model to interpret the structure of the input text and label text by adding special tokens to the original text.\n",
    "\n",
    "(3) Tokens to IDs: Convert words or characters to the unique IDs in the tokenizers' vocabulary. These IDs are used as the input for LLMs.\n",
    "\n",
    "(4) Truncation: Ensure that all long input text is shortened to a pre-defined maximum length.\n",
    "\n",
    "(5) Padding: Ensures that all short input text is extended to a pre-defined maximum length.\n",
    "\n",
    "(6) Creating Attention Masks: A list of binary masks that differentiates real word tokens (represented as 1) and padding tokens (represented as 0)."
   ]
  },
  {
   "cell_type": "code",
   "execution_count": 15,
   "metadata": {
    "executionInfo": {
     "elapsed": 15,
     "status": "ok",
     "timestamp": 1721322276281,
     "user": {
      "displayName": "BOFENG FU",
      "userId": "12502377591132971488"
     },
     "user_tz": 150
    },
    "id": "T1W8bOnVxLsR"
   },
   "outputs": [],
   "source": [
    "def text_preprocessing(samples, model_name):\n",
    "    if model_name in [\"BART-BASE\", \"BART-LARGE\", \"BART-LARGE-CNN\", \"BART-LARGE-CNN-FREEZE\", \"BART-LARGE-CNN-DISCRIM\"]:\n",
    "        inputs = [art for art in samples[\"article\"]]\n",
    "        model_inputs = pretrained_tokenizer(inputs,\n",
    "                                            max_length=HYPERS[model_name][\"PREPROCESSING_ARTICLE_MAX_LENGTH\"],\n",
    "                                            truncation=True,\n",
    "                                            padding=\"max_length\")\n",
    "        with pretrained_tokenizer.as_target_tokenizer():\n",
    "            labels = pretrained_tokenizer(samples[\"highlights\"],\n",
    "                                          max_length=HYPERS[model_name][\"PREPROCESSING_HIGHLIGHT_MAX_LENGTH\"],\n",
    "                                          truncation=True,\n",
    "                                          padding=\"max_length\")\n",
    "        model_inputs[\"labels\"] = labels[\"input_ids\"]\n",
    "    elif model_name in [\"T5-SMALL\", \"T5-BASE\", \"T5-LARGE\"]:\n",
    "        inputs = [\"summarize: \" + art for art in samples[\"article\"]]\n",
    "        model_inputs = pretrained_tokenizer(inputs,\n",
    "                                            max_length=HYPERS[model_name][\"PREPROCESSING_ARTICLE_MAX_LENGTH\"],\n",
    "                                            truncation=True,\n",
    "                                            padding=\"max_length\")\n",
    "        with pretrained_tokenizer.as_target_tokenizer():\n",
    "            labels = pretrained_tokenizer(samples[\"highlights\"],\n",
    "                                          max_length=HYPERS[model_name][\"PREPROCESSING_HIGHLIGHT_MAX_LENGTH\"],\n",
    "                                          truncation=True,\n",
    "                                          padding=\"max_length\")\n",
    "        model_inputs[\"labels\"] = labels[\"input_ids\"]\n",
    "    else:\n",
    "        raise ValueError(\"Please input correct model name\")\n",
    "\n",
    "    return model_inputs"
   ]
  },
  {
   "cell_type": "code",
   "execution_count": 16,
   "metadata": {
    "colab": {
     "base_uri": "https://localhost:8080/",
     "height": 113,
     "referenced_widgets": [
      "a685bdbd867e4a03bb0ce3de89d070ff",
      "91603444ddfb42648ae7a37edf609ef3",
      "94e92f4f370a43fd83f9640bc34589fb",
      "574108bccc704d1e87111b66c7697e6f",
      "4bbb052f61ee472a8c704ebc5e3f3813",
      "cf0d146c1fea40ed84cdfb02b1ebfc8e",
      "ba4d4f5f0bb84a13a24d59b55d1275c7",
      "b949d8543068488dbf62375024bb13e1",
      "1b7f40860b2647faab164c8d124c53fe",
      "ea5a55f59dae40b2b5ac9076a9371534",
      "77f10db3dc9a41eabf6a46256c1e40b3",
      "197a6ba064184422ac664eadf9b2386c",
      "a72af27797524cbd8a20704d366e521e",
      "e9c74c021ed94a9581c8f2c2f739ceea",
      "d0b7b2d667724b96891b566b8e933c87",
      "423f8cec5e4b4f1ba648a939242f77b2",
      "ff94e22484304c48af7b24ea71067e9a",
      "318616296e1547a4b5c86b17b50f4061",
      "b3b95a29e62042d8bad4bbd006944d39",
      "571d611e1ce94ca09136252fdc3aab28",
      "09291da87d90409fb58954839a1d3124",
      "1c9d26440c2a45ff8c8c3fbec5383651",
      "1eee5e80deed458ba3027038c37ea526",
      "74f0f80fc85d4e16a36b7ae32ca8bfe4",
      "de9f25efabf24426850538c0bc44f3eb",
      "7cf322eeacf9472996588d764ed84099",
      "dab46c15025645c69c919b96554f2c24",
      "776449342bb5491bb0275c5566fd2e86",
      "12b93a185391469a9ddb637c410c7a1b",
      "d6237df5aa664aae9aa1666932761762",
      "7d7ba6c9c3c74399890467745dbcf1ee",
      "ba1f908c8b644f808487fc9e4afa51ab",
      "a1ec0b5cbafc4e96baa72d6a3ecb1501"
     ]
    },
    "executionInfo": {
     "elapsed": 6364,
     "status": "ok",
     "timestamp": 1721322282630,
     "user": {
      "displayName": "BOFENG FU",
      "userId": "12502377591132971488"
     },
     "user_tz": 150
    },
    "id": "eq070kSYzDAg",
    "outputId": "b5466b93-0718-4118-a58b-a4fe885725b9"
   },
   "outputs": [
    {
     "data": {
      "application/vnd.jupyter.widget-view+json": {
       "model_id": "a685bdbd867e4a03bb0ce3de89d070ff",
       "version_major": 2,
       "version_minor": 0
      },
      "text/plain": [
       "Map:   0%|          | 0/270 [00:00<?, ? examples/s]"
      ]
     },
     "metadata": {},
     "output_type": "display_data"
    },
    {
     "data": {
      "application/vnd.jupyter.widget-view+json": {
       "model_id": "197a6ba064184422ac664eadf9b2386c",
       "version_major": 2,
       "version_minor": 0
      },
      "text/plain": [
       "Map:   0%|          | 0/15 [00:00<?, ? examples/s]"
      ]
     },
     "metadata": {},
     "output_type": "display_data"
    },
    {
     "data": {
      "application/vnd.jupyter.widget-view+json": {
       "model_id": "1eee5e80deed458ba3027038c37ea526",
       "version_major": 2,
       "version_minor": 0
      },
      "text/plain": [
       "Map:   0%|          | 0/15 [00:00<?, ? examples/s]"
      ]
     },
     "metadata": {},
     "output_type": "display_data"
    }
   ],
   "source": [
    "tokenized_dataset = dataset.map(text_preprocessing, batched=True, fn_kwargs={\"model_name\": MODEL_SELECTED})\n",
    "tokenized_dataset.set_format(type=\"torch\", columns=[\"input_ids\", \"attention_mask\", \"labels\"])"
   ]
  },
  {
   "cell_type": "markdown",
   "metadata": {
    "id": "ChnNqDqQd-wW"
   },
   "source": [
    "## 9. Pre-training Evaluation"
   ]
  },
  {
   "cell_type": "markdown",
   "metadata": {
    "id": "CgthPdZ-sO8z"
   },
   "source": [
    "I evaluate these models from both quantitative and qualitative sides.\n",
    "\n",
    "(1) For quantitative evaluation:\n",
    "\n",
    "- ROUGE (Recall-Oriented Understudy for Gisting Evaluation)\n",
    "\n",
    "- Mean Generated Length\n",
    "\n",
    "- Average Run Time.\n",
    "\n",
    "(2) For qualitative evaluation:\n",
    "\n",
    "- Conduct human evaluation as it is the main goal for most of the NLP tasks.\n",
    "\n",
    "(3) In the experiment, we focus on the F1-Scores of ROUGE-Lsum scores.\n",
    "\n",
    "- ROUGE-Lsum measures the longest common subsequence between the generated text and the target highlight with a length penalty term, forcing the model to choose concise generation.\n",
    "\n",
    "- F1-Scores are balanced factors of recalls and precisions. Since we focus on text summarization, we aim to generate short and informative summaries\n",
    "containing key information from the original articles. Therefore, we need to find a balance between capturing relevant information, which is recall, and dropping duplicate context, which is precision.\n",
    "\n",
    "F1-Scores of ROUGE scores provide a good estimation of a combination of\n",
    "recall and precision, which is well-suited for our purpose.\n",
    "\n",
    "(4) The higher the ROUGE scores, the better capturing and more concise summarization quality."
   ]
  },
  {
   "cell_type": "code",
   "execution_count": 17,
   "metadata": {
    "executionInfo": {
     "elapsed": 7,
     "status": "ok",
     "timestamp": 1721322282630,
     "user": {
      "displayName": "BOFENG FU",
      "userId": "12502377591132971488"
     },
     "user_tz": 150
    },
    "id": "FBvZrmX_eH3F"
   },
   "outputs": [],
   "source": [
    "def text_summarization(batch, model_name):\n",
    "    if model_name in [\"BART-BASE\", \"BART-LARGE\", \"BART-LARGE-CNN\", \"BART-LARGE-CNN-FREEZE\", \"BART-LARGE-CNN-DISCRIM\"]:\n",
    "        inputs = [art for art in batch[\"article\"]]\n",
    "        model_inputs = pretrained_tokenizer(inputs,\n",
    "                                            max_length=HYPERS[model_name][\"SUMMARY_ARTICLE_MAX_LENGTH\"],\n",
    "                                            truncation=True,\n",
    "                                            padding=\"max_length\",\n",
    "                                            return_tensors=\"pt\")\n",
    "        # Move to GPU\n",
    "        model_inputs = {key: value.to(device) for key, value in model_inputs.items()}\n",
    "        summary_ids = pretrained_model.generate(model_inputs[\"input_ids\"],\n",
    "                                                num_beams=HYPERS[model_name][\"SUMMARY_HIGHLIGHT_BEAM\"],\n",
    "                                                max_length=HYPERS[model_name][\"SUMMARY_HIGHLIGHT_MAX_LENGTH\"],\n",
    "                                                early_stopping=True,\n",
    "                                                num_return_sequences=HYPERS[model_name][\"SUMMARY_HIGHLIGHT_NUM_RETURN_SEQUENCES\"])\n",
    "        batch[\"summary\"] = pretrained_tokenizer.batch_decode(summary_ids,\n",
    "                                                             skip_special_tokens=True,\n",
    "                                                             clean_up_tokenization_spaces=False)\n",
    "\n",
    "        # Delete the data on GPU\n",
    "        del model_inputs\n",
    "        # Clear GPU cache\n",
    "        torch.cuda.empty_cache()\n",
    "\n",
    "    elif model_name in [\"T5-SMALL\", \"T5-BASE\", \"T5-LARGE\"]:\n",
    "        inputs = [\"summarize: \" + art for art in batch[\"article\"]]\n",
    "        model_inputs = pretrained_tokenizer(inputs,\n",
    "                                            max_length=HYPERS[model_name][\"SUMMARY_ARTICLE_MAX_LENGTH\"],\n",
    "                                            truncation=True,\n",
    "                                            padding=\"max_length\",\n",
    "                                            return_tensors=\"pt\")\n",
    "        # Move to GPU\n",
    "        model_inputs = {key: value.to(device) for key, value in model_inputs.items()}\n",
    "        summary_ids = pretrained_model.generate(model_inputs[\"input_ids\"],\n",
    "                                                num_beams=HYPERS[model_name][\"SUMMARY_HIGHLIGHT_BEAM\"],\n",
    "                                                max_length=HYPERS[model_name][\"SUMMARY_HIGHLIGHT_MAX_LENGTH\"],\n",
    "                                                early_stopping=True,\n",
    "                                                num_return_sequences=HYPERS[model_name][\"SUMMARY_HIGHLIGHT_NUM_RETURN_SEQUENCES\"])\n",
    "        batch[\"summary\"] = pretrained_tokenizer.batch_decode(summary_ids,\n",
    "                                                             skip_special_tokens=True,\n",
    "                                                             clean_up_tokenization_spaces=False)\n",
    "\n",
    "        # Delete the data on GPU\n",
    "        del model_inputs\n",
    "        # Clear GPU cache\n",
    "        torch.cuda.empty_cache()\n",
    "\n",
    "    else:\n",
    "        raise ValueError(\"Please input correct model name\")\n",
    "\n",
    "    return batch"
   ]
  },
  {
   "cell_type": "code",
   "execution_count": 18,
   "metadata": {
    "colab": {
     "base_uri": "https://localhost:8080/",
     "height": 49,
     "referenced_widgets": [
      "168547676f604dc799bdb198ca108478",
      "94501a24126c4ed996d3f8e5db2d1363",
      "1d62e76276e2421ea9a139146340f7c5",
      "497a79edb80542ad97f0c976a0955d19",
      "31f5cb2367eb4d02b420ee6c9f3533e2",
      "95d239f315264a93980e11fb5d936ac0",
      "29ba9737b9c4486ab09f06ad211340f5",
      "023c221b84304796821e1022369e1ba8",
      "5697e3d3a5b04ea0a083a0cca0276ff1",
      "5dc6b923ab784d879a46a38d79d8f15f",
      "2c573b0fba7f49789e677b10501b907d"
     ]
    },
    "executionInfo": {
     "elapsed": 19839,
     "status": "ok",
     "timestamp": 1721322302463,
     "user": {
      "displayName": "BOFENG FU",
      "userId": "12502377591132971488"
     },
     "user_tz": 150
    },
    "id": "o1UclmuGfCWG",
    "outputId": "238ba2bc-c111-4544-8a83-10a62819e3fb"
   },
   "outputs": [
    {
     "data": {
      "application/vnd.jupyter.widget-view+json": {
       "model_id": "168547676f604dc799bdb198ca108478",
       "version_major": 2,
       "version_minor": 0
      },
      "text/plain": [
       "Map:   0%|          | 0/15 [00:00<?, ? examples/s]"
      ]
     },
     "metadata": {},
     "output_type": "display_data"
    }
   ],
   "source": [
    "summaries = dataset[\"test\"].map(text_summarization, batched=True, batch_size=HYPERS[MODEL_SELECTED][\"SUMMARY_MAP_BATCH_SIZE\"], fn_kwargs={\"model_name\": MODEL_SELECTED})"
   ]
  },
  {
   "cell_type": "code",
   "execution_count": 19,
   "metadata": {
    "colab": {
     "base_uri": "https://localhost:8080/",
     "height": 81
    },
    "executionInfo": {
     "elapsed": 1425,
     "status": "ok",
     "timestamp": 1721322303882,
     "user": {
      "displayName": "BOFENG FU",
      "userId": "12502377591132971488"
     },
     "user_tz": 150
    },
    "id": "Gb1e9M_4fHQr",
    "outputId": "35afad30-a749-47a2-a9b3-87f2ea648cb6"
   },
   "outputs": [
    {
     "data": {
      "text/html": [
       "<style type=\"text/css\">\n",
       "</style>\n",
       "<table id=\"T_14f09\" class=\"dataframe\">\n",
       "  <thead>\n",
       "    <tr>\n",
       "      <th id=\"T_14f09_level0_col0\" class=\"col_heading level0 col0\" >ROUGE1</th>\n",
       "      <th id=\"T_14f09_level0_col1\" class=\"col_heading level0 col1\" >ROUGE2</th>\n",
       "      <th id=\"T_14f09_level0_col2\" class=\"col_heading level0 col2\" >ROUGEL</th>\n",
       "      <th id=\"T_14f09_level0_col3\" class=\"col_heading level0 col3\" >ROUGELsum</th>\n",
       "      <th id=\"T_14f09_level0_col4\" class=\"col_heading level0 col4\" >Mean Generated Length</th>\n",
       "    </tr>\n",
       "  </thead>\n",
       "  <tbody>\n",
       "    <tr>\n",
       "      <td id=\"T_14f09_row0_col0\" class=\"data row0 col0\" >39.866949</td>\n",
       "      <td id=\"T_14f09_row0_col1\" class=\"data row0 col1\" >16.586604</td>\n",
       "      <td id=\"T_14f09_row0_col2\" class=\"data row0 col2\" >27.545879</td>\n",
       "      <td id=\"T_14f09_row0_col3\" class=\"data row0 col3\" >33.401832</td>\n",
       "      <td id=\"T_14f09_row0_col4\" class=\"data row0 col4\" >49.866667</td>\n",
       "    </tr>\n",
       "  </tbody>\n",
       "</table>\n"
      ],
      "text/plain": [
       "<pandas.io.formats.style.Styler at 0x7e84941a0340>"
      ]
     },
     "metadata": {},
     "output_type": "display_data"
    }
   ],
   "source": [
    "def compute_metrics(pred):\n",
    "    rouge = load_metric(\"rouge\")\n",
    "\n",
    "    references = pred[\"highlights\"]\n",
    "    predictions = pred[\"summary\"]\n",
    "\n",
    "    # Compute Rouge scores\n",
    "    result = rouge.compute(predictions=predictions, references=references, use_stemmer=True)\n",
    "\n",
    "    # Compute the mid F1 scores based on the results of all metrics\n",
    "    output_result = {key: value.mid.fmeasure * 100 for key, value in result.items()}\n",
    "\n",
    "    # Compute average length of the generated text\n",
    "    prediction_lens = [len(pred.split()) for pred in predictions]\n",
    "    output_result[\"gen_len\"] = np.mean(prediction_lens)\n",
    "\n",
    "    return pd.DataFrame.from_dict([output_result])\n",
    "\n",
    "metrics = compute_metrics(summaries)\n",
    "\n",
    "with pd.option_context(\"display.max_colwidth\", None):\n",
    "    metrics = metrics.rename(columns={\"rouge1\": \"ROUGE1\", \"rouge2\": \"ROUGE2\", \"rougeL\": \"ROUGEL\", \"rougeLsum\": \"ROUGELsum\", \"gen_len\": \"Mean Generated Length\"})\n",
    "    styled_metrics = metrics.style.format()\n",
    "    display(styled_metrics.hide())"
   ]
  },
  {
   "cell_type": "markdown",
   "metadata": {
    "id": "wzQftdE1fYah"
   },
   "source": [
    "## 10. Model Fine-tuning"
   ]
  },
  {
   "cell_type": "markdown",
   "metadata": {
    "id": "fg6QYXsg317X"
   },
   "source": [
    "(1) Hyperparameter Tuning: Try different combinations of hyperparameters during the training process and check the performance on the validation set.\n",
    "\n",
    "(2) Training Models on the CNN/Daily Mail Dataset: Train models for a few epochs with extremely small learning rates. We want the model to converge on this new dataset while avoiding overfitting."
   ]
  },
  {
   "cell_type": "markdown",
   "metadata": {
    "id": "MGiUPouMwSPe"
   },
   "source": [
    "#### 10.1 Hyperparameter Settings\n",
    "\n",
    "- The hyperparameter settings are as follows.\n",
    "\n",
    "- Since the T5-LARGE model contains over 770 million parameters, limited by computational resources, I design a set of parameters specifically for this model."
   ]
  },
  {
   "cell_type": "markdown",
   "metadata": {
    "id": "KpL6pTvfwWEm"
   },
   "source": [
    "| Hyperparameters | Other Models | T5-LARGE |\n",
    "| ---  | ---           | ---             |\n",
    "|Preprocessing Article Max Length | 1024  | 512 |\n",
    "|Preprocessing Highlight Max Length | 150  | 50 |\n",
    "|Train Per Device Train Batch Size | 4 | 2 |\n",
    "|Train Per Device Eval Batch Size | 4 | 2 |\n",
    "|Train Generation Max Length | 150 | 50 |\n",
    "|Train Generation Num Beams | 2 | 2 |\n",
    "|Learning Rate | 3e-5 | 3e-5 |\n",
    "|Warmup Steps | 500 | 500 |\n",
    "|Weight Decay | 0.01 | 0.01 |\n",
    "|Epoch | 3 | 3 |\n",
    "|Evaluation Steps During Training | 20 | 20 |\n",
    "|Logging Steps During Training | 20 | 20 |\n",
    "|Summary Article Max Length | 1024 | 512 |\n",
    "|Summary Highlight Max Length | 150 | 50 |\n",
    "|Summary Highlight Beam | 150 | 2 |\n",
    "|Summary Highlight Num Return Sequences | 1 | 1 |\n",
    "|Summary Map Batch Size | 8 | 2 |\n",
    "|Pipeline Max Length | 150 | 50 |\n",
    "|Pipeline Min Length | 50 | 40 |"
   ]
  },
  {
   "cell_type": "code",
   "execution_count": 20,
   "metadata": {
    "colab": {
     "base_uri": "https://localhost:8080/",
     "height": 445
    },
    "executionInfo": {
     "elapsed": 450307,
     "status": "ok",
     "timestamp": 1721322754187,
     "user": {
      "displayName": "BOFENG FU",
      "userId": "12502377591132971488"
     },
     "user_tz": 150
    },
    "id": "055TmdLV9af1",
    "outputId": "9961b69a-9c4b-433e-d6b0-d2a36d474894"
   },
   "outputs": [
    {
     "data": {
      "text/html": [
       "\n",
       "    <div>\n",
       "      \n",
       "      <progress value='204' max='204' style='width:300px; height:20px; vertical-align: middle;'></progress>\n",
       "      [204/204 07:27, Epoch 3/3]\n",
       "    </div>\n",
       "    <table border=\"1\" class=\"dataframe\">\n",
       "  <thead>\n",
       " <tr style=\"text-align: left;\">\n",
       "      <th>Step</th>\n",
       "      <th>Training Loss</th>\n",
       "      <th>Validation Loss</th>\n",
       "    </tr>\n",
       "  </thead>\n",
       "  <tbody>\n",
       "    <tr>\n",
       "      <td>20</td>\n",
       "      <td>8.125000</td>\n",
       "      <td>7.641587</td>\n",
       "    </tr>\n",
       "    <tr>\n",
       "      <td>40</td>\n",
       "      <td>7.108200</td>\n",
       "      <td>6.246601</td>\n",
       "    </tr>\n",
       "    <tr>\n",
       "      <td>60</td>\n",
       "      <td>5.218000</td>\n",
       "      <td>3.330870</td>\n",
       "    </tr>\n",
       "    <tr>\n",
       "      <td>80</td>\n",
       "      <td>2.783000</td>\n",
       "      <td>1.632233</td>\n",
       "    </tr>\n",
       "    <tr>\n",
       "      <td>100</td>\n",
       "      <td>1.559800</td>\n",
       "      <td>1.068429</td>\n",
       "    </tr>\n",
       "    <tr>\n",
       "      <td>120</td>\n",
       "      <td>1.104000</td>\n",
       "      <td>0.798834</td>\n",
       "    </tr>\n",
       "    <tr>\n",
       "      <td>140</td>\n",
       "      <td>0.817300</td>\n",
       "      <td>0.674911</td>\n",
       "    </tr>\n",
       "    <tr>\n",
       "      <td>160</td>\n",
       "      <td>0.609900</td>\n",
       "      <td>0.611107</td>\n",
       "    </tr>\n",
       "    <tr>\n",
       "      <td>180</td>\n",
       "      <td>0.579800</td>\n",
       "      <td>0.568184</td>\n",
       "    </tr>\n",
       "    <tr>\n",
       "      <td>200</td>\n",
       "      <td>0.466900</td>\n",
       "      <td>0.553135</td>\n",
       "    </tr>\n",
       "  </tbody>\n",
       "</table><p>"
      ],
      "text/plain": [
       "<IPython.core.display.HTML object>"
      ]
     },
     "metadata": {},
     "output_type": "display_data"
    },
    {
     "name": "stderr",
     "output_type": "stream",
     "text": [
      "Some non-default generation parameters are set in the model config. These should go into a GenerationConfig file (https://huggingface.co/docs/transformers/generation_strategies#save-a-custom-decoding-strategy-with-your-model) instead. This warning will be raised to an exception in v4.41.\n",
      "Non-default generation parameters: {'max_length': 142, 'min_length': 56, 'early_stopping': True, 'num_beams': 4, 'length_penalty': 2.0, 'no_repeat_ngram_size': 3, 'forced_bos_token_id': 0, 'forced_eos_token_id': 2}\n"
     ]
    }
   ],
   "source": [
    "if not USE_ADVANCES_TECH:\n",
    "    seq2seq_training_args = Seq2SeqTrainingArguments(\n",
    "        output_dir=model_save_path,\n",
    "        # Evaluate after every eval steps\n",
    "        evaluation_strategy=\"steps\",\n",
    "        eval_steps=20,\n",
    "        num_train_epochs=3,\n",
    "        # Batch size for training\n",
    "        per_device_train_batch_size=HYPERS[MODEL_SELECTED][\"TRAIN_PER_DEVICE_TRAIN_BATCH_SIZE\"],\n",
    "        # Batch size for validation\n",
    "        per_device_eval_batch_size=HYPERS[MODEL_SELECTED][\"TRAIN_PER_DEVICE_EVAL_BATCH_SIZE\"],\n",
    "        warmup_steps=500,\n",
    "        weight_decay=0.01,\n",
    "        # Output for TensorBoard logs\n",
    "        logging_dir='./logs',\n",
    "        # Log every 20 steps\n",
    "        logging_steps=20,\n",
    "        # Generate predicted text sequences during evaluation. The generated text are compared against the target highlight.\n",
    "        predict_with_generate=True,\n",
    "        learning_rate=3e-5,\n",
    "        # Max length of text generation during evaluation.\n",
    "        generation_max_length=HYPERS[MODEL_SELECTED][\"TRAIN_GENERATION_MAX_LENGTH\"],\n",
    "        # Number of beams for beam search during evaluation\n",
    "        generation_num_beams=HYPERS[MODEL_SELECTED][\"TRAIN_GENERATION_NUM_BEAMS\"],\n",
    "    )\n",
    "\n",
    "    seq2seq_trainer = Seq2SeqTrainer(\n",
    "        model=pretrained_model,\n",
    "        args=seq2seq_training_args,\n",
    "        train_dataset=tokenized_dataset[\"train\"],\n",
    "        eval_dataset=tokenized_dataset[\"validation\"],\n",
    "    )\n",
    "\n",
    "    seq2seq_trainer.train()"
   ]
  },
  {
   "cell_type": "markdown",
   "metadata": {
    "id": "YBHuCodTwiWr"
   },
   "source": [
    "#### 10.2 Advanced Fine-tuning Techniques\n",
    "\n",
    "In this project, I also investigate the effectiveness of two advanced fine-tuning techniques.\n",
    "\n",
    "(1) Layer Freezing: Layer Freezing freezes the early layers of the model and only fine-tunes the later layers.  Layer Freezing works well when we have a small dataset. This method is able to speed up the training process and mitigate overfitting.\n",
    "\n",
    "(2) Discriminative Fine-Tuning: Applying different learning rates to the model is beneficial when we want to keep some layers in the model stable. Early layers are trained using a lower learning rate, and later layers are trained using a higher learning rate. As a result, the later layers receive more momentum to change and fit the new dataset."
   ]
  },
  {
   "cell_type": "code",
   "execution_count": 21,
   "metadata": {
    "executionInfo": {
     "elapsed": 5,
     "status": "ok",
     "timestamp": 1721322754187,
     "user": {
      "displayName": "BOFENG FU",
      "userId": "12502377591132971488"
     },
     "user_tz": 150
    },
    "id": "jlwThLmNZb86"
   },
   "outputs": [],
   "source": [
    "def freeze_bart_layers(model, num_layers_to_freeze):\n",
    "    # Freeze encoder layers\n",
    "    for i in range(num_layers_to_freeze):\n",
    "        for param in model.model.encoder.layers[i].parameters():\n",
    "            param.requires_grad = False\n",
    "\n",
    "    # Freeze decoder layers\n",
    "    for i in range(num_layers_to_freeze):\n",
    "        for param in model.model.decoder.layers[i].parameters():\n",
    "            param.requires_grad = False\n",
    "\n",
    "if USE_ADVANCES_TECH:\n",
    "    if MODEL_SELECTED == \"BART-LARGE-CNN-FREEZE\":\n",
    "        freeze_bart_layers(pretrained_model, num_layers_to_freeze=6)\n",
    "    elif MODEL_SELECTED == \"BART-LARGE-CNN-DISCRIM\":\n",
    "        pass\n",
    "    else:\n",
    "        raise ValueError(\"Please input correct model name\")"
   ]
  },
  {
   "cell_type": "code",
   "execution_count": 22,
   "metadata": {
    "executionInfo": {
     "elapsed": 4,
     "status": "ok",
     "timestamp": 1721322754187,
     "user": {
      "displayName": "BOFENG FU",
      "userId": "12502377591132971488"
     },
     "user_tz": 150
    },
    "id": "ppK3gv3dZb7D"
   },
   "outputs": [],
   "source": [
    "def get_optimizer_params(pretrained_model, learning_rate_early, learning_rate_later):\n",
    "    optimizer_grouped_parameters = [\n",
    "        {\"params\": pretrained_model.model.encoder.layers[:6].parameters(), \"lr\": learning_rate_early},\n",
    "        {\"params\": pretrained_model.model.encoder.layers[6:].parameters(), \"lr\": learning_rate_later},\n",
    "        {\"params\": pretrained_model.model.decoder.layers[:6].parameters(), \"lr\": learning_rate_early},\n",
    "        {\"params\": pretrained_model.model.decoder.layers[6:].parameters(), \"lr\": learning_rate_later}\n",
    "    ]\n",
    "\n",
    "    return optimizer_grouped_parameters\n",
    "\n",
    "if USE_ADVANCES_TECH:\n",
    "    if MODEL_SELECTED == \"BART-LARGE-CNN-FREEZE\":\n",
    "        pass\n",
    "    elif MODEL_SELECTED == \"BART-LARGE-CNN-DISCRIM\":\n",
    "        learning_rate_early = 1e-5\n",
    "        learning_rate_later = 3e-5\n",
    "    else:\n",
    "        raise ValueError(\"Please input correct model name\")"
   ]
  },
  {
   "cell_type": "code",
   "execution_count": 23,
   "metadata": {
    "executionInfo": {
     "elapsed": 4,
     "status": "ok",
     "timestamp": 1721322754188,
     "user": {
      "displayName": "BOFENG FU",
      "userId": "12502377591132971488"
     },
     "user_tz": 150
    },
    "id": "hWeYsJyfPvE9"
   },
   "outputs": [],
   "source": [
    "if USE_ADVANCES_TECH:\n",
    "    seq2seq_training_args = Seq2SeqTrainingArguments(\n",
    "        output_dir=model_save_path,\n",
    "        # Evaluate after every eval steps\n",
    "        evaluation_strategy=\"steps\",\n",
    "        eval_steps=20,\n",
    "        num_train_epochs=3,\n",
    "        # Batch size for training\n",
    "        per_device_train_batch_size=HYPERS[MODEL_SELECTED][\"TRAIN_PER_DEVICE_TRAIN_BATCH_SIZE\"],\n",
    "        # Batch size for validation\n",
    "        per_device_eval_batch_size=HYPERS[MODEL_SELECTED][\"TRAIN_PER_DEVICE_EVAL_BATCH_SIZE\"],\n",
    "        warmup_steps=500,\n",
    "        weight_decay=0.01,\n",
    "        # Output for TensorBoard logs\n",
    "        logging_dir='./logs',\n",
    "        # Log every 20 steps\n",
    "        logging_steps=20,\n",
    "        # Generate predicted text sequences during evaluation. The generated text are compared against the target highlight.\n",
    "        predict_with_generate=True,\n",
    "        learning_rate=3e-5,\n",
    "        # Max length of text generation during evaluation.\n",
    "        generation_max_length=HYPERS[MODEL_SELECTED][\"TRAIN_GENERATION_MAX_LENGTH\"],\n",
    "        # Number of beams for beam search during evaluation\n",
    "        generation_num_beams=HYPERS[MODEL_SELECTED][\"TRAIN_GENERATION_NUM_BEAMS\"],\n",
    "    )\n",
    "\n",
    "    seq2seq_trainer = Seq2SeqTrainer(\n",
    "        model=pretrained_model,\n",
    "        args=seq2seq_training_args,\n",
    "        train_dataset=tokenized_dataset[\"train\"],\n",
    "        eval_dataset=tokenized_dataset[\"validation\"],\n",
    "        optimizers=(None, None)\n",
    "    )\n",
    "\n",
    "    # Custom optimizer creation function\n",
    "    def custom_create_optimizer_and_scheduler(trainer, num_training_steps):\n",
    "        optimizer_params = get_optimizer_params(pretrained_model, learning_rate_early, learning_rate_later)\n",
    "        trainer.optimizer = torch.optim.AdamW(optimizer_params)\n",
    "        trainer.lr_scheduler = trainer.create_scheduler(num_training_steps=num_training_steps, optimizer=trainer.optimizer)\n",
    "\n",
    "    if MODEL_SELECTED == \"BART-LARGE-CNN-FREEZE\":\n",
    "        pass\n",
    "    elif MODEL_SELECTED == \"BART-LARGE-CNN-DISCRIM\":\n",
    "        # Override the optimizer creation method\n",
    "        seq2seq_trainer.create_optimizer_and_scheduler = lambda num_training_steps: custom_create_optimizer_and_scheduler(seq2seq_trainer, num_training_steps)\n",
    "    else:\n",
    "        raise ValueError(\"Please input correct model name\")\n",
    "\n",
    "    seq2seq_trainer.train()"
   ]
  },
  {
   "cell_type": "markdown",
   "metadata": {
    "id": "dH1yGVS9wvhW"
   },
   "source": [
    "#### 10.3 Findings During Training\n",
    "\n",
    "- Learning Rate: I also experimented with a learning rate of 1e-5. The results were worse than using a learning rate of 3e-5. Smaller learning rates slightly update weights and need more training time.\n",
    "\n",
    "- Batch Size: Limited by computational resources, batch sizes cannot be too large.\n",
    "\n",
    "- Beam Search: Beam number significantly affects the training and generation speed. Setting a higher beam number can improve the quality of summaries at the cost of higher computational resources demand.\n",
    "\n",
    "- Generation Length: The maximum text length for training and generation should remain consistent."
   ]
  },
  {
   "cell_type": "markdown",
   "metadata": {
    "id": "oJih_-CXw5YB"
   },
   "source": [
    "#### 10.4 Regularization Methods\n",
    "\n",
    "Since these models generally contain millions of parameters and we are limited by the size of the dataset and training time, we need to add regularizations during the training process to prevent the models from overfitting.\n",
    "\n",
    "- Warmup Steps: I enable warmup steps during training. In the warmup stage, the learning rate starts from a very small value and gradually increases to the pre-defined value. Warmup can stabilize the training process and smooth gradient updates in the early training stage.\n",
    "\n",
    "- Weight Decay: Weight decay is a regularization method for stabilizing the training process by adding an L2-regularization term to the loss function. Weight decay prevents the model from overfitting.\n",
    "\n",
    "- Early Stopping: While generating new summaries, I am using beam search with the number of beams greater than 1. However, we do not want to search for all possible sequences in the generation process. We only want a few best sequences. The early stopping parameter controls when to stop the generation process if the model has found the required number of sequences."
   ]
  },
  {
   "cell_type": "markdown",
   "metadata": {
    "id": "3-A7c69OoxZF"
   },
   "source": [
    "## 11. Performance Evaluation"
   ]
  },
  {
   "cell_type": "code",
   "execution_count": 24,
   "metadata": {
    "executionInfo": {
     "elapsed": 4,
     "status": "ok",
     "timestamp": 1721322754188,
     "user": {
      "displayName": "BOFENG FU",
      "userId": "12502377591132971488"
     },
     "user_tz": 150
    },
    "id": "3YnJnYjpoy_1"
   },
   "outputs": [],
   "source": [
    "def text_summarization(batch, model_name):\n",
    "    if model_name in [\"BART-BASE\", \"BART-LARGE\", \"BART-LARGE-CNN\", \"BART-LARGE-CNN-FREEZE\", \"BART-LARGE-CNN-DISCRIM\"]:\n",
    "        inputs = [art for art in batch[\"article\"]]\n",
    "        model_inputs = pretrained_tokenizer(inputs,\n",
    "                                            max_length=HYPERS[model_name][\"SUMMARY_ARTICLE_MAX_LENGTH\"],\n",
    "                                            truncation=True,\n",
    "                                            padding=\"max_length\",\n",
    "                                            return_tensors=\"pt\")\n",
    "        # Move to GPU\n",
    "        model_inputs = {key: value.to(device) for key, value in model_inputs.items()}\n",
    "        summary_ids = pretrained_model.generate(model_inputs[\"input_ids\"],\n",
    "                                                num_beams=HYPERS[model_name][\"SUMMARY_HIGHLIGHT_BEAM\"],\n",
    "                                                max_length=HYPERS[model_name][\"SUMMARY_HIGHLIGHT_MAX_LENGTH\"],\n",
    "                                                early_stopping=True,\n",
    "                                                num_return_sequences=HYPERS[model_name][\"SUMMARY_HIGHLIGHT_NUM_RETURN_SEQUENCES\"])\n",
    "        batch[\"summary\"] = pretrained_tokenizer.batch_decode(summary_ids,\n",
    "                                                             skip_special_tokens=True,\n",
    "                                                             clean_up_tokenization_spaces=False)\n",
    "\n",
    "        # Delete the data on GPU\n",
    "        del model_inputs\n",
    "        # Clear GPU cache\n",
    "        torch.cuda.empty_cache()\n",
    "\n",
    "    elif model_name in [\"T5-SMALL\", \"T5-BASE\", \"T5-LARGE\"]:\n",
    "        inputs = [\"summarize: \" + art for art in batch[\"article\"]]\n",
    "        model_inputs = pretrained_tokenizer(inputs,\n",
    "                                            max_length=HYPERS[model_name][\"SUMMARY_ARTICLE_MAX_LENGTH\"],\n",
    "                                            truncation=True,\n",
    "                                            padding=\"max_length\",\n",
    "                                            return_tensors=\"pt\")\n",
    "        # Move to GPU\n",
    "        model_inputs = {key: value.to(device) for key, value in model_inputs.items()}\n",
    "        summary_ids = pretrained_model.generate(model_inputs[\"input_ids\"],\n",
    "                                                num_beams=HYPERS[model_name][\"SUMMARY_HIGHLIGHT_BEAM\"],\n",
    "                                                max_length=HYPERS[model_name][\"SUMMARY_HIGHLIGHT_MAX_LENGTH\"],\n",
    "                                                early_stopping=True,\n",
    "                                                num_return_sequences=HYPERS[model_name][\"SUMMARY_HIGHLIGHT_NUM_RETURN_SEQUENCES\"])\n",
    "        batch[\"summary\"] = pretrained_tokenizer.batch_decode(summary_ids,\n",
    "                                                             skip_special_tokens=True,\n",
    "                                                             clean_up_tokenization_spaces=False)\n",
    "\n",
    "        # Delete the data on GPU\n",
    "        del model_inputs\n",
    "        # Clear GPU cache\n",
    "        torch.cuda.empty_cache()\n",
    "\n",
    "    else:\n",
    "        raise ValueError(\"Please input correct model name\")\n",
    "\n",
    "    return batch"
   ]
  },
  {
   "cell_type": "code",
   "execution_count": 25,
   "metadata": {
    "colab": {
     "base_uri": "https://localhost:8080/",
     "height": 49,
     "referenced_widgets": [
      "16f0f443daf74da5a58714c2cdf0edcc",
      "53c5b5bf22924db8b3256a62dcd526f0",
      "f2e3bef995034ec98965124048f431eb",
      "a53256831f9345af94677f1fb69355c8",
      "58e42f3330214204ac7b55c27106bfca",
      "8b4569cfc7614501b7552695f8396582",
      "80db6cbdb22845e0943611518740c487",
      "c183741077174696974006f1a7831d01",
      "05fe8db0bc1c4c29be7db6cd8a04620a",
      "772cc9a9ac47442b9a95a4358fffcc91",
      "4b7486de338c4cb28d13e0dafd5322a9"
     ]
    },
    "executionInfo": {
     "elapsed": 29738,
     "status": "ok",
     "timestamp": 1721322783922,
     "user": {
      "displayName": "BOFENG FU",
      "userId": "12502377591132971488"
     },
     "user_tz": 150
    },
    "id": "NAgliS9B5aTG",
    "outputId": "1f917fb3-07ed-41e7-adec-21d299816463"
   },
   "outputs": [
    {
     "data": {
      "application/vnd.jupyter.widget-view+json": {
       "model_id": "16f0f443daf74da5a58714c2cdf0edcc",
       "version_major": 2,
       "version_minor": 0
      },
      "text/plain": [
       "Map:   0%|          | 0/15 [00:00<?, ? examples/s]"
      ]
     },
     "metadata": {},
     "output_type": "display_data"
    }
   ],
   "source": [
    "summaries = dataset[\"test\"].map(text_summarization, batched=True, batch_size=HYPERS[MODEL_SELECTED][\"SUMMARY_MAP_BATCH_SIZE\"], fn_kwargs={\"model_name\": MODEL_SELECTED})"
   ]
  },
  {
   "cell_type": "code",
   "execution_count": 26,
   "metadata": {
    "colab": {
     "base_uri": "https://localhost:8080/",
     "height": 81
    },
    "executionInfo": {
     "elapsed": 2218,
     "status": "ok",
     "timestamp": 1721322786124,
     "user": {
      "displayName": "BOFENG FU",
      "userId": "12502377591132971488"
     },
     "user_tz": 150
    },
    "id": "WBYo4WBUp7nd",
    "outputId": "38381a5d-270b-414b-daa2-3e4ac6cefcf4"
   },
   "outputs": [
    {
     "data": {
      "text/html": [
       "<style type=\"text/css\">\n",
       "</style>\n",
       "<table id=\"T_fa070\" class=\"dataframe\">\n",
       "  <thead>\n",
       "    <tr>\n",
       "      <th id=\"T_fa070_level0_col0\" class=\"col_heading level0 col0\" >ROUGE1</th>\n",
       "      <th id=\"T_fa070_level0_col1\" class=\"col_heading level0 col1\" >ROUGE2</th>\n",
       "      <th id=\"T_fa070_level0_col2\" class=\"col_heading level0 col2\" >ROUGEL</th>\n",
       "      <th id=\"T_fa070_level0_col3\" class=\"col_heading level0 col3\" >ROUGELsum</th>\n",
       "      <th id=\"T_fa070_level0_col4\" class=\"col_heading level0 col4\" >Mean Generated Length</th>\n",
       "    </tr>\n",
       "  </thead>\n",
       "  <tbody>\n",
       "    <tr>\n",
       "      <td id=\"T_fa070_row0_col0\" class=\"data row0 col0\" >40.880113</td>\n",
       "      <td id=\"T_fa070_row0_col1\" class=\"data row0 col1\" >17.237597</td>\n",
       "      <td id=\"T_fa070_row0_col2\" class=\"data row0 col2\" >29.510233</td>\n",
       "      <td id=\"T_fa070_row0_col3\" class=\"data row0 col3\" >38.605159</td>\n",
       "      <td id=\"T_fa070_row0_col4\" class=\"data row0 col4\" >45.933333</td>\n",
       "    </tr>\n",
       "  </tbody>\n",
       "</table>\n"
      ],
      "text/plain": [
       "<pandas.io.formats.style.Styler at 0x7e83315a86a0>"
      ]
     },
     "metadata": {},
     "output_type": "display_data"
    }
   ],
   "source": [
    "def compute_metrics(pred):\n",
    "    rouge = load_metric(\"rouge\")\n",
    "\n",
    "    references = pred[\"highlights\"]\n",
    "    predictions = pred[\"summary\"]\n",
    "\n",
    "    # Compute Rouge scores\n",
    "    result = rouge.compute(predictions=predictions, references=references, use_stemmer=True)\n",
    "\n",
    "    # Compute the mid F1 scores based on the results of all metrics\n",
    "    output_result = {key: value.mid.fmeasure * 100 for key, value in result.items()}\n",
    "\n",
    "    # Compute average length of the generated text\n",
    "    prediction_lens = [len(pred.split()) for pred in predictions]\n",
    "    output_result[\"gen_len\"] = np.mean(prediction_lens)\n",
    "\n",
    "    return pd.DataFrame.from_dict([output_result])\n",
    "\n",
    "metrics = compute_metrics(summaries)\n",
    "\n",
    "with pd.option_context(\"display.max_colwidth\", None):\n",
    "    metrics = metrics.rename(columns={\"rouge1\": \"ROUGE1\", \"rouge2\": \"ROUGE2\", \"rougeL\": \"ROUGEL\", \"rougeLsum\": \"ROUGELsum\", \"gen_len\": \"Mean Generated Length\"})\n",
    "    styled_metrics = metrics.style.format()\n",
    "    display(styled_metrics.hide())"
   ]
  },
  {
   "cell_type": "markdown",
   "metadata": {
    "id": "z75PRhhmgUgB"
   },
   "source": [
    "## 12. Build Text Summarization Pipeline"
   ]
  },
  {
   "cell_type": "markdown",
   "metadata": {
    "id": "pQ3D-LAFsc8F"
   },
   "source": [
    "During inference, we generate summaries for new articles (up-to-date news) using the fine-tuned models. This step is to test the results of our fine-tuned models and give us an intuitive understanding of how models work."
   ]
  },
  {
   "cell_type": "code",
   "execution_count": 27,
   "metadata": {
    "colab": {
     "base_uri": "https://localhost:8080/",
     "height": 185
    },
    "executionInfo": {
     "elapsed": 3115,
     "status": "ok",
     "timestamp": 1721322789237,
     "user": {
      "displayName": "BOFENG FU",
      "userId": "12502377591132971488"
     },
     "user_tz": 150
    },
    "id": "N1i-2lSTsTUj",
    "outputId": "41e6fd96-8ad3-4a2b-c994-3829e35cea26"
   },
   "outputs": [
    {
     "data": {
      "text/html": [
       "<style type=\"text/css\">\n",
       "</style>\n",
       "<table id=\"T_6c048\" class=\"dataframe\">\n",
       "  <thead>\n",
       "    <tr>\n",
       "      <th id=\"T_6c048_level0_col0\" class=\"col_heading level0 col0\" >Summary</th>\n",
       "      <th id=\"T_6c048_level0_col1\" class=\"col_heading level0 col1\" >Article</th>\n",
       "    </tr>\n",
       "  </thead>\n",
       "  <tbody>\n",
       "    <tr>\n",
       "      <td id=\"T_6c048_row0_col0\" class=\"data row0 col0\" >{'summary_text': 'Researchers developed a specialized microscopy technique for imaging multiple sides of the fossil antennae. They compared the fossil ants’ suite of sensilla to those of six modern ant species. The findings suggest that tens of millions of years before they became an ecological force in ecosystems, ants may have been marching together.'}</td>\n",
       "      <td id=\"T_6c048_row0_col1\" class=\"data row0 col1\" >The researchers developed a specialized microscopy technique for imaging multiple sides of the fossil antennae to better examine the ants’ sensilla — tiny projections that detect environmental cues. They compared the fossil ants’ suite of sensilla to those of six modern ant species. G. gracilis had two types of sensilla that are known only in ants. These organs are used for identifying nestmates and detecting their alarm pheromones, which notify other ants of threats to the colony. Together, these unique sensilla help ants live together and defend the colony as a single unit. Today, many ant species create massive colonies thousands to millions strong, but the researchers argue that the fossil record suggests that the earliest ants lived in very small colonies of a few dozen nestmates. Despite this, “we can consider that ants lived in a highly advanced social system even in their early evolutionary stages,” Taniguchi says. The new findings suggest that tens of millions of years before they became an ecological force in ecosystems around the world, ants may have been marching together.</td>\n",
       "    </tr>\n",
       "  </tbody>\n",
       "</table>\n"
      ],
      "text/plain": [
       "<pandas.io.formats.style.Styler at 0x7e8331583850>"
      ]
     },
     "metadata": {},
     "output_type": "display_data"
    }
   ],
   "source": [
    "# Summarization pipeline\n",
    "summarizer = pipeline(\"summarization\",\n",
    "                      model=pretrained_model,\n",
    "                      tokenizer=pretrained_tokenizer,\n",
    "                      device=device)\n",
    "\n",
    "# Example text to summarize\n",
    "my_text = \"The researchers developed a specialized microscopy technique for imaging multiple sides of the fossil antennae to better examine the ants’ sensilla — tiny projections that detect environmental cues. They compared the fossil ants’ suite of sensilla to those of six modern ant species. G. gracilis had two types of sensilla that are known only in ants. These organs are used for identifying nestmates and detecting their alarm pheromones, which notify other ants of threats to the colony. Together, these unique sensilla help ants live together and defend the colony as a single unit. Today, many ant species create massive colonies thousands to millions strong, but the researchers argue that the fossil record suggests that the earliest ants lived in very small colonies of a few dozen nestmates. Despite this, “we can consider that ants lived in a highly advanced social system even in their early evolutionary stages,” Taniguchi says. The new findings suggest that tens of millions of years before they became an ecological force in ecosystems around the world, ants may have been marching together.\"\n",
    "\n",
    "# Generate summary\n",
    "my_summary = summarizer(my_text,\n",
    "                        max_length=HYPERS[MODEL_SELECTED][\"PIPELINE_MAX_LENGTH\"],\n",
    "                        min_length=HYPERS[MODEL_SELECTED][\"PIPELINE_MIN_LENGTH\"],\n",
    "                        do_sample=False)\n",
    "\n",
    "my_results = pd.DataFrame({\"Summary\": my_summary, \"Article\": my_text})\n",
    "\n",
    "with pd.option_context(\"display.max_colwidth\", None):\n",
    "    styled_my_results = my_results.style.format()\n",
    "    display(styled_my_results.hide())"
   ]
  },
  {
   "cell_type": "markdown",
   "metadata": {
    "id": "x94DJik0zvx9"
   },
   "source": [
    "## 13. Best Practices"
   ]
  },
  {
   "cell_type": "markdown",
   "metadata": {
    "id": "ZZFM43SqxHMa"
   },
   "source": [
    "(1) Fine-tuning is an essential step for training LLMs on a specific task. It increases the performance of LLMs on the selected task with an acceptable amount of training time and computational resources.\n",
    "\n",
    "(2) Hyperparameter tuning is crucial for fine-tuning LLMs with limited resources. Many hyperparameters have huge impacts on the model training time and memory required. Sometimes we need to find a balance between the amount of training resources required and the fine-tuned model's performance.\n",
    "\n",
    "(3) Training time depends on the following factors.\n",
    "\n",
    "- Model Size: Larger models need more time to train.\n",
    "\n",
    "- Batch Size: Larger batch sizes reduce the training time.\n",
    "\n",
    "- Number of Epochs: The number of epochs is the main factor determining the training time.\n",
    "\n",
    "- Sequence Length: Longer input sequences require more training time.\n",
    "\n",
    "(4) The amount of memory required depends on the following factors.\n",
    "- Batch Size: Larger batch sizes increase the memory used.\n",
    "\n",
    "- Generated Sequence Length: The longer the generated sequences are, the more memory they occupy.\n",
    "\n",
    "(5) Different tasks have their corresponding evaluation metrics. These metrics are designed for certain tasks and can better reveal their performance. Human evaluation is another key measure to evaluate the model's performance in the NLP domain as human interpretation is the ultimate goal of any NLP tasks."
   ]
  }
 ],
 "metadata": {
  "accelerator": "GPU",
  "colab": {
   "gpuType": "T4",
   "provenance": []
  },
  "kernelspec": {
   "display_name": "Python 3",
   "name": "python3"
  },
  "language_info": {
   "name": "python"
  }
 },
 "nbformat": 4,
 "nbformat_minor": 0
}
